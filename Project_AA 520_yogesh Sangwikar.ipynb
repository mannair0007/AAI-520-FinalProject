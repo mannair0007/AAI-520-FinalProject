{
 "cells": [
  {
   "cell_type": "markdown",
   "id": "2ec759d4-bb84-484d-9d35-19bf50bf837d",
   "metadata": {},
   "source": [
    "## PROJECT WORK - AAI 520 - Fintech Agent "
   ]
  },
  {
   "cell_type": "code",
   "execution_count": 14,
   "id": "d7f57c48-147b-49b5-81f0-5675eb71a728",
   "metadata": {},
   "outputs": [
    {
     "name": "stdout",
     "output_type": "stream",
     "text": [
      "Requirement already satisfied: yfinance in c:\\users\\yogsa\\anaconda3\\lib\\site-packages (0.2.66)\n",
      "Requirement already satisfied: python-dotenv in c:\\users\\yogsa\\anaconda3\\lib\\site-packages (0.21.0)\n",
      "Requirement already satisfied: matplotlib in c:\\users\\yogsa\\anaconda3\\lib\\site-packages (3.8.0)\n",
      "Requirement already satisfied: pandas in c:\\users\\yogsa\\anaconda3\\lib\\site-packages (2.3.2)\n",
      "Requirement already satisfied: numpy>=1.16.5 in c:\\users\\yogsa\\anaconda3\\lib\\site-packages (from yfinance) (1.26.4)\n",
      "Requirement already satisfied: requests>=2.31 in c:\\users\\yogsa\\anaconda3\\lib\\site-packages (from yfinance) (2.32.5)\n",
      "Requirement already satisfied: multitasking>=0.0.7 in c:\\users\\yogsa\\anaconda3\\lib\\site-packages (from yfinance) (0.0.12)\n",
      "Requirement already satisfied: platformdirs>=2.0.0 in c:\\users\\yogsa\\anaconda3\\lib\\site-packages (from yfinance) (3.10.0)\n",
      "Requirement already satisfied: pytz>=2022.5 in c:\\users\\yogsa\\anaconda3\\lib\\site-packages (from yfinance) (2025.2)\n",
      "Requirement already satisfied: frozendict>=2.3.4 in c:\\users\\yogsa\\anaconda3\\lib\\site-packages (from yfinance) (2.4.2)\n",
      "Requirement already satisfied: peewee>=3.16.2 in c:\\users\\yogsa\\anaconda3\\lib\\site-packages (from yfinance) (3.18.2)\n",
      "Requirement already satisfied: beautifulsoup4>=4.11.1 in c:\\users\\yogsa\\anaconda3\\lib\\site-packages (from yfinance) (4.12.2)\n",
      "Requirement already satisfied: curl_cffi>=0.7 in c:\\users\\yogsa\\anaconda3\\lib\\site-packages (from yfinance) (0.13.0)\n",
      "Requirement already satisfied: protobuf>=3.19.0 in c:\\users\\yogsa\\anaconda3\\lib\\site-packages (from yfinance) (3.20.3)\n",
      "Requirement already satisfied: websockets>=13.0 in c:\\users\\yogsa\\anaconda3\\lib\\site-packages (from yfinance) (15.0.1)\n",
      "Requirement already satisfied: contourpy>=1.0.1 in c:\\users\\yogsa\\anaconda3\\lib\\site-packages (from matplotlib) (1.2.0)\n",
      "Requirement already satisfied: cycler>=0.10 in c:\\users\\yogsa\\anaconda3\\lib\\site-packages (from matplotlib) (0.11.0)\n",
      "Requirement already satisfied: fonttools>=4.22.0 in c:\\users\\yogsa\\anaconda3\\lib\\site-packages (from matplotlib) (4.25.0)\n",
      "Requirement already satisfied: kiwisolver>=1.0.1 in c:\\users\\yogsa\\anaconda3\\lib\\site-packages (from matplotlib) (1.4.4)\n",
      "Requirement already satisfied: packaging>=20.0 in c:\\users\\yogsa\\anaconda3\\lib\\site-packages (from matplotlib) (25.0)\n",
      "Requirement already satisfied: pillow>=6.2.0 in c:\\users\\yogsa\\anaconda3\\lib\\site-packages (from matplotlib) (10.2.0)\n",
      "Requirement already satisfied: pyparsing>=2.3.1 in c:\\users\\yogsa\\anaconda3\\lib\\site-packages (from matplotlib) (3.0.9)\n",
      "Requirement already satisfied: python-dateutil>=2.7 in c:\\users\\yogsa\\anaconda3\\lib\\site-packages (from matplotlib) (2.9.0.post0)\n",
      "Requirement already satisfied: tzdata>=2022.7 in c:\\users\\yogsa\\anaconda3\\lib\\site-packages (from pandas) (2025.2)\n",
      "Requirement already satisfied: soupsieve>1.2 in c:\\users\\yogsa\\anaconda3\\lib\\site-packages (from beautifulsoup4>=4.11.1->yfinance) (2.5)\n",
      "Requirement already satisfied: cffi>=1.12.0 in c:\\users\\yogsa\\anaconda3\\lib\\site-packages (from curl_cffi>=0.7->yfinance) (1.16.0)\n",
      "Requirement already satisfied: certifi>=2024.2.2 in c:\\users\\yogsa\\anaconda3\\lib\\site-packages (from curl_cffi>=0.7->yfinance) (2025.8.3)\n",
      "Requirement already satisfied: pycparser in c:\\users\\yogsa\\anaconda3\\lib\\site-packages (from cffi>=1.12.0->curl_cffi>=0.7->yfinance) (2.21)\n",
      "Requirement already satisfied: six>=1.5 in c:\\users\\yogsa\\anaconda3\\lib\\site-packages (from python-dateutil>=2.7->matplotlib) (1.17.0)\n",
      "Requirement already satisfied: charset_normalizer<4,>=2 in c:\\users\\yogsa\\anaconda3\\lib\\site-packages (from requests>=2.31->yfinance) (3.4.3)\n",
      "Requirement already satisfied: idna<4,>=2.5 in c:\\users\\yogsa\\anaconda3\\lib\\site-packages (from requests>=2.31->yfinance) (3.10)\n",
      "Requirement already satisfied: urllib3<3,>=1.21.1 in c:\\users\\yogsa\\anaconda3\\lib\\site-packages (from requests>=2.31->yfinance) (2.5.0)\n"
     ]
    }
   ],
   "source": [
    "!pip install yfinance python-dotenv matplotlib pandas\n"
   ]
  },
  {
   "cell_type": "code",
   "execution_count": 20,
   "id": "37c934a1-dd3f-432c-a3aa-121ff0063a15",
   "metadata": {},
   "outputs": [
    {
     "name": "stdout",
     "output_type": "stream",
     "text": [
      "Env loaded. OPENAI_API_KEY present?  True\n"
     ]
    }
   ],
   "source": [
    "import os\n",
    "import pandas as pd\n",
    "import matplotlib.pyplot as plt\n",
    "import yfinance as yf\n",
    "from dotenv import load_dotenv\n",
    "\n",
    "# Load your env file (Windows-friendly name)\n",
    "load_dotenv(\"keys.env\")  # safe even if file is missing\n",
    "\n",
    "# Create folders for artifacts\n",
    "os.makedirs(\"data/prices\", exist_ok=True)\n",
    "os.makedirs(\"runs\", exist_ok=True)\n",
    "\n",
    "print(\"Env loaded. OPENAI_API_KEY present? \", bool(os.getenv(\"OPENAI_API_KEY\")))\n"
   ]
  },
  {
   "cell_type": "code",
   "execution_count": 24,
   "id": "296d3461-8429-449e-ba05-6cea9c6f34fe",
   "metadata": {},
   "outputs": [
    {
     "data": {
      "text/html": [
       "<div>\n",
       "<style scoped>\n",
       "    .dataframe tbody tr th:only-of-type {\n",
       "        vertical-align: middle;\n",
       "    }\n",
       "\n",
       "    .dataframe tbody tr th {\n",
       "        vertical-align: top;\n",
       "    }\n",
       "\n",
       "    .dataframe thead th {\n",
       "        text-align: right;\n",
       "    }\n",
       "</style>\n",
       "<table border=\"1\" class=\"dataframe\">\n",
       "  <thead>\n",
       "    <tr style=\"text-align: right;\">\n",
       "      <th></th>\n",
       "      <th>Open</th>\n",
       "      <th>High</th>\n",
       "      <th>Low</th>\n",
       "      <th>Close</th>\n",
       "      <th>Volume</th>\n",
       "      <th>Dividends</th>\n",
       "      <th>Stock Splits</th>\n",
       "    </tr>\n",
       "    <tr>\n",
       "      <th>Date</th>\n",
       "      <th></th>\n",
       "      <th></th>\n",
       "      <th></th>\n",
       "      <th></th>\n",
       "      <th></th>\n",
       "      <th></th>\n",
       "      <th></th>\n",
       "    </tr>\n",
       "  </thead>\n",
       "  <tbody>\n",
       "    <tr>\n",
       "      <th>2025-10-06 00:00:00-04:00</th>\n",
       "      <td>185.500000</td>\n",
       "      <td>187.229996</td>\n",
       "      <td>183.330002</td>\n",
       "      <td>185.539993</td>\n",
       "      <td>157678100</td>\n",
       "      <td>0.0</td>\n",
       "      <td>0.0</td>\n",
       "    </tr>\n",
       "    <tr>\n",
       "      <th>2025-10-07 00:00:00-04:00</th>\n",
       "      <td>186.229996</td>\n",
       "      <td>189.059998</td>\n",
       "      <td>184.000000</td>\n",
       "      <td>185.039993</td>\n",
       "      <td>140088000</td>\n",
       "      <td>0.0</td>\n",
       "      <td>0.0</td>\n",
       "    </tr>\n",
       "    <tr>\n",
       "      <th>2025-10-08 00:00:00-04:00</th>\n",
       "      <td>186.570007</td>\n",
       "      <td>189.600006</td>\n",
       "      <td>186.539993</td>\n",
       "      <td>189.110001</td>\n",
       "      <td>130168900</td>\n",
       "      <td>0.0</td>\n",
       "      <td>0.0</td>\n",
       "    </tr>\n",
       "    <tr>\n",
       "      <th>2025-10-09 00:00:00-04:00</th>\n",
       "      <td>192.229996</td>\n",
       "      <td>195.300003</td>\n",
       "      <td>191.059998</td>\n",
       "      <td>192.570007</td>\n",
       "      <td>182997200</td>\n",
       "      <td>0.0</td>\n",
       "      <td>0.0</td>\n",
       "    </tr>\n",
       "    <tr>\n",
       "      <th>2025-10-10 00:00:00-04:00</th>\n",
       "      <td>193.509995</td>\n",
       "      <td>195.619995</td>\n",
       "      <td>182.050003</td>\n",
       "      <td>183.160004</td>\n",
       "      <td>266534400</td>\n",
       "      <td>0.0</td>\n",
       "      <td>0.0</td>\n",
       "    </tr>\n",
       "  </tbody>\n",
       "</table>\n",
       "</div>"
      ],
      "text/plain": [
       "                                 Open        High         Low       Close  \\\n",
       "Date                                                                        \n",
       "2025-10-06 00:00:00-04:00  185.500000  187.229996  183.330002  185.539993   \n",
       "2025-10-07 00:00:00-04:00  186.229996  189.059998  184.000000  185.039993   \n",
       "2025-10-08 00:00:00-04:00  186.570007  189.600006  186.539993  189.110001   \n",
       "2025-10-09 00:00:00-04:00  192.229996  195.300003  191.059998  192.570007   \n",
       "2025-10-10 00:00:00-04:00  193.509995  195.619995  182.050003  183.160004   \n",
       "\n",
       "                              Volume  Dividends  Stock Splits  \n",
       "Date                                                           \n",
       "2025-10-06 00:00:00-04:00  157678100        0.0           0.0  \n",
       "2025-10-07 00:00:00-04:00  140088000        0.0           0.0  \n",
       "2025-10-08 00:00:00-04:00  130168900        0.0           0.0  \n",
       "2025-10-09 00:00:00-04:00  182997200        0.0           0.0  \n",
       "2025-10-10 00:00:00-04:00  266534400        0.0           0.0  "
      ]
     },
     "execution_count": 24,
     "metadata": {},
     "output_type": "execute_result"
    }
   ],
   "source": [
    "TICKER = \"NVDA\"\n",
    "WINDOW_DAYS = 100\n",
    "\n",
    "ticker = yf.Ticker(TICKER)\n",
    "hist = ticker.history(period=f\"{WINDOW_DAYS}d\")  # daily data\n",
    "\n",
    "if hist.empty:\n",
    "    raise ValueError(f\"No price data returned for {TICKER}\")\n",
    "\n",
    "hist.tail()\n"
   ]
  },
  {
   "cell_type": "code",
   "execution_count": 26,
   "id": "e9ebd02d-4d6d-4948-8af0-5a7784b4c11f",
   "metadata": {},
   "outputs": [
    {
     "data": {
      "text/plain": [
       "(100, 7)"
      ]
     },
     "execution_count": 26,
     "metadata": {},
     "output_type": "execute_result"
    }
   ],
   "source": [
    "hist.shape"
   ]
  },
  {
   "cell_type": "code",
   "execution_count": 28,
   "id": "927bb885-9fbc-4c43-94ad-8139eb8cd487",
   "metadata": {},
   "outputs": [
    {
     "data": {
      "image/png": "[encoded data removed]",
      "text/plain": [
       "<Figure size 1000x400 with 1 Axes>"
      ]
     },
     "metadata": {},
     "output_type": "display_data"
    }
   ],
   "source": [
    "plt.figure(figsize=(10, 4))\n",
    "plt.plot(hist.index, hist[\"Close\"], label=\"Close\")\n",
    "plt.title(f\"{TICKER} Closing Price - Last {WINDOW_DAYS} Days\")\n",
    "plt.xlabel(\"Date\")\n",
    "plt.ylabel(\"USD\")\n",
    "plt.legend()\n",
    "plt.grid(True)\n",
    "plt.show()\n"
   ]
  },
  {
   "cell_type": "code",
   "execution_count": 30,
   "id": "15e8a18a-6a40-4a98-a020-fd24aa43a521",
   "metadata": {},
   "outputs": [
    {
     "name": "stdout",
     "output_type": "stream",
     "text": [
      "Saved: data/prices/NVDA_prices_100d.csv\n",
      "Fetched NVDA last 100 days: 100 rows.\n"
     ]
    }
   ],
   "source": [
    "price_path = f\"data/prices/{TICKER}_prices_{WINDOW_DAYS}d.csv\"\n",
    "hist.to_csv(price_path)\n",
    "\n",
    "run_note = f\"Fetched {TICKER} last {WINDOW_DAYS} days: {len(hist)} rows.\"\n",
    "with open(\"runs/m1_prices.log\", \"a\", encoding=\"utf-8\") as f:\n",
    "    f.write(run_note + \"\\n\")\n",
    "\n",
    "print(\"Saved:\", price_path)\n",
    "print(run_note)\n"
   ]
  },
  {
   "cell_type": "markdown",
   "id": "9799dbd6-9e81-49b1-9b47-4c8dafba3527",
   "metadata": {},
   "source": [
    "#### Cell 6 — Reusable helper (promote later to src/tools/prices.py)"
   ]
  },
  {
   "cell_type": "code",
   "execution_count": 120,
   "id": "e825b360-641d-452e-a3b4-616e32db4da7",
   "metadata": {},
   "outputs": [
    {
     "name": "stdout",
     "output_type": "stream",
     "text": [
      "                                 Open        High         Low       Close  \\\n",
      "Date                                                                        \n",
      "2025-10-02 00:00:00-04:00  189.600006  191.050003  188.059998  188.889999   \n",
      "2025-10-03 00:00:00-04:00  189.190002  190.360001  185.380005  187.619995   \n",
      "2025-10-06 00:00:00-04:00  185.500000  187.229996  183.330002  185.539993   \n",
      "2025-10-07 00:00:00-04:00  186.229996  189.059998  184.000000  185.039993   \n",
      "2025-10-08 00:00:00-04:00  186.570007  189.600006  186.539993  189.110001   \n",
      "\n",
      "                              Volume  Dividends  Stock Splits  \n",
      "Date                                                           \n",
      "2025-10-02 00:00:00-04:00  136805800        0.0           0.0  \n",
      "2025-10-03 00:00:00-04:00  137596900        0.0           0.0  \n",
      "2025-10-06 00:00:00-04:00  157678100        0.0           0.0  \n",
      "2025-10-07 00:00:00-04:00  140088000        0.0           0.0  \n",
      "2025-10-08 00:00:00-04:00  129778900        0.0           0.0  \n",
      "Saved to: data/prices/NVDA_prices_7d.csv\n"
     ]
    }
   ],
   "source": [
    "from typing import Tuple\n",
    "\n",
    "def fetch_prices(ticker: str, window_days: int = 30) -> Tuple[pd.DataFrame, str]:\n",
    "    \"\"\"\n",
    "    Fetch daily price history for `ticker` for the past `window_days` using yfinance.\n",
    "    Saves CSV to data/prices/ and returns (DataFrame, csv_path).\n",
    "    \"\"\"\n",
    "    t = yf.Ticker(ticker)\n",
    "    df = t.history(period=f\"{window_days}d\")\n",
    "    if df.empty:\n",
    "        raise ValueError(f\"No price data returned for {ticker}.\")\n",
    "    path = f\"data/prices/{ticker}_prices_{window_days}d.csv\"\n",
    "    df.to_csv(path)\n",
    "    return df, path\n",
    "\n",
    "# quick test\n",
    "df_nvda, path_nvda = fetch_prices(\"NVDA\", 7)\n",
    "print(df_nvda.tail())\n",
    "print(\"Saved to:\", path_nvda)\n"
   ]
  },
  {
   "cell_type": "markdown",
   "id": "c1f05903-5421-42eb-9402-2385beb1d36c",
   "metadata": {},
   "source": [
    "#### (Optional) Cell 7 — Peek at financial statements"
   ]
  },
  {
   "cell_type": "code",
   "execution_count": 123,
   "id": "c341a36a-20c1-465e-82fd-27463d781225",
   "metadata": {},
   "outputs": [
    {
     "name": "stdout",
     "output_type": "stream",
     "text": [
      "=== Income Statement (head) ===\n"
     ]
    },
    {
     "data": {
      "text/html": [
       "<div>\n",
       "<style scoped>\n",
       "    .dataframe tbody tr th:only-of-type {\n",
       "        vertical-align: middle;\n",
       "    }\n",
       "\n",
       "    .dataframe tbody tr th {\n",
       "        vertical-align: top;\n",
       "    }\n",
       "\n",
       "    .dataframe thead th {\n",
       "        text-align: right;\n",
       "    }\n",
       "</style>\n",
       "<table border=\"1\" class=\"dataframe\">\n",
       "  <thead>\n",
       "    <tr style=\"text-align: right;\">\n",
       "      <th></th>\n",
       "      <th>2025-01-31</th>\n",
       "      <th>2024-01-31</th>\n",
       "      <th>2023-01-31</th>\n",
       "      <th>2022-01-31</th>\n",
       "    </tr>\n",
       "  </thead>\n",
       "  <tbody>\n",
       "    <tr>\n",
       "      <th>Tax Effect Of Unusual Items</th>\n",
       "      <td>0.000000e+00</td>\n",
       "      <td>0.000000e+00</td>\n",
       "      <td>-2.841300e+08</td>\n",
       "      <td>0.000000e+00</td>\n",
       "    </tr>\n",
       "    <tr>\n",
       "      <th>Tax Rate For Calcs</th>\n",
       "      <td>1.330000e-01</td>\n",
       "      <td>1.200000e-01</td>\n",
       "      <td>2.100000e-01</td>\n",
       "      <td>1.900000e-02</td>\n",
       "    </tr>\n",
       "    <tr>\n",
       "      <th>Normalized EBITDA</th>\n",
       "      <td>8.613700e+10</td>\n",
       "      <td>3.558300e+10</td>\n",
       "      <td>7.339000e+09</td>\n",
       "      <td>1.135100e+10</td>\n",
       "    </tr>\n",
       "    <tr>\n",
       "      <th>Total Unusual Items</th>\n",
       "      <td>0.000000e+00</td>\n",
       "      <td>0.000000e+00</td>\n",
       "      <td>-1.353000e+09</td>\n",
       "      <td>0.000000e+00</td>\n",
       "    </tr>\n",
       "    <tr>\n",
       "      <th>Total Unusual Items Excluding Goodwill</th>\n",
       "      <td>0.000000e+00</td>\n",
       "      <td>0.000000e+00</td>\n",
       "      <td>-1.353000e+09</td>\n",
       "      <td>0.000000e+00</td>\n",
       "    </tr>\n",
       "  </tbody>\n",
       "</table>\n",
       "</div>"
      ],
      "text/plain": [
       "                                          2025-01-31    2024-01-31  \\\n",
       "Tax Effect Of Unusual Items             0.000000e+00  0.000000e+00   \n",
       "Tax Rate For Calcs                      1.330000e-01  1.200000e-01   \n",
       "Normalized EBITDA                       8.613700e+10  3.558300e+10   \n",
       "Total Unusual Items                     0.000000e+00  0.000000e+00   \n",
       "Total Unusual Items Excluding Goodwill  0.000000e+00  0.000000e+00   \n",
       "\n",
       "                                          2023-01-31    2022-01-31  \n",
       "Tax Effect Of Unusual Items            -2.841300e+08  0.000000e+00  \n",
       "Tax Rate For Calcs                      2.100000e-01  1.900000e-02  \n",
       "Normalized EBITDA                       7.339000e+09  1.135100e+10  \n",
       "Total Unusual Items                    -1.353000e+09  0.000000e+00  \n",
       "Total Unusual Items Excluding Goodwill -1.353000e+09  0.000000e+00  "
      ]
     },
     "metadata": {},
     "output_type": "display_data"
    },
    {
     "name": "stdout",
     "output_type": "stream",
     "text": [
      "=== Balance Sheet (head) ===\n"
     ]
    },
    {
     "data": {
      "text/html": [
       "<div>\n",
       "<style scoped>\n",
       "    .dataframe tbody tr th:only-of-type {\n",
       "        vertical-align: middle;\n",
       "    }\n",
       "\n",
       "    .dataframe tbody tr th {\n",
       "        vertical-align: top;\n",
       "    }\n",
       "\n",
       "    .dataframe thead th {\n",
       "        text-align: right;\n",
       "    }\n",
       "</style>\n",
       "<table border=\"1\" class=\"dataframe\">\n",
       "  <thead>\n",
       "    <tr style=\"text-align: right;\">\n",
       "      <th></th>\n",
       "      <th>2025-01-31</th>\n",
       "      <th>2024-01-31</th>\n",
       "      <th>2023-01-31</th>\n",
       "      <th>2022-01-31</th>\n",
       "      <th>2021-01-31</th>\n",
       "    </tr>\n",
       "  </thead>\n",
       "  <tbody>\n",
       "    <tr>\n",
       "      <th>Treasury Shares Number</th>\n",
       "      <td>NaN</td>\n",
       "      <td>NaN</td>\n",
       "      <td>NaN</td>\n",
       "      <td>NaN</td>\n",
       "      <td>1.380000e+10</td>\n",
       "    </tr>\n",
       "    <tr>\n",
       "      <th>Ordinary Shares Number</th>\n",
       "      <td>2.447700e+10</td>\n",
       "      <td>2.464000e+10</td>\n",
       "      <td>2.466137e+10</td>\n",
       "      <td>2.506000e+10</td>\n",
       "      <td>NaN</td>\n",
       "    </tr>\n",
       "    <tr>\n",
       "      <th>Share Issued</th>\n",
       "      <td>2.447700e+10</td>\n",
       "      <td>2.464000e+10</td>\n",
       "      <td>2.466137e+10</td>\n",
       "      <td>2.506000e+10</td>\n",
       "      <td>NaN</td>\n",
       "    </tr>\n",
       "    <tr>\n",
       "      <th>Net Debt</th>\n",
       "      <td>NaN</td>\n",
       "      <td>2.429000e+09</td>\n",
       "      <td>7.564000e+09</td>\n",
       "      <td>8.956000e+09</td>\n",
       "      <td>6.116000e+09</td>\n",
       "    </tr>\n",
       "    <tr>\n",
       "      <th>Total Debt</th>\n",
       "      <td>1.027000e+10</td>\n",
       "      <td>1.105600e+10</td>\n",
       "      <td>1.203100e+10</td>\n",
       "      <td>1.183100e+10</td>\n",
       "      <td>NaN</td>\n",
       "    </tr>\n",
       "  </tbody>\n",
       "</table>\n",
       "</div>"
      ],
      "text/plain": [
       "                          2025-01-31    2024-01-31    2023-01-31  \\\n",
       "Treasury Shares Number           NaN           NaN           NaN   \n",
       "Ordinary Shares Number  2.447700e+10  2.464000e+10  2.466137e+10   \n",
       "Share Issued            2.447700e+10  2.464000e+10  2.466137e+10   \n",
       "Net Debt                         NaN  2.429000e+09  7.564000e+09   \n",
       "Total Debt              1.027000e+10  1.105600e+10  1.203100e+10   \n",
       "\n",
       "                          2022-01-31    2021-01-31  \n",
       "Treasury Shares Number           NaN  1.380000e+10  \n",
       "Ordinary Shares Number  2.506000e+10           NaN  \n",
       "Share Issued            2.506000e+10           NaN  \n",
       "Net Debt                8.956000e+09  6.116000e+09  \n",
       "Total Debt              1.183100e+10           NaN  "
      ]
     },
     "metadata": {},
     "output_type": "display_data"
    },
    {
     "name": "stdout",
     "output_type": "stream",
     "text": [
      "=== Cashflow (head) ===\n"
     ]
    },
    {
     "data": {
      "text/html": [
       "<div>\n",
       "<style scoped>\n",
       "    .dataframe tbody tr th:only-of-type {\n",
       "        vertical-align: middle;\n",
       "    }\n",
       "\n",
       "    .dataframe tbody tr th {\n",
       "        vertical-align: top;\n",
       "    }\n",
       "\n",
       "    .dataframe thead th {\n",
       "        text-align: right;\n",
       "    }\n",
       "</style>\n",
       "<table border=\"1\" class=\"dataframe\">\n",
       "  <thead>\n",
       "    <tr style=\"text-align: right;\">\n",
       "      <th></th>\n",
       "      <th>2025-01-31</th>\n",
       "      <th>2024-01-31</th>\n",
       "      <th>2023-01-31</th>\n",
       "      <th>2022-01-31</th>\n",
       "      <th>2021-01-31</th>\n",
       "    </tr>\n",
       "  </thead>\n",
       "  <tbody>\n",
       "    <tr>\n",
       "      <th>Free Cash Flow</th>\n",
       "      <td>6.085300e+10</td>\n",
       "      <td>2.702100e+10</td>\n",
       "      <td>3.808000e+09</td>\n",
       "      <td>8.132000e+09</td>\n",
       "      <td>NaN</td>\n",
       "    </tr>\n",
       "    <tr>\n",
       "      <th>Repurchase Of Capital Stock</th>\n",
       "      <td>-3.370600e+10</td>\n",
       "      <td>-9.533000e+09</td>\n",
       "      <td>-1.003900e+10</td>\n",
       "      <td>0.000000e+00</td>\n",
       "      <td>NaN</td>\n",
       "    </tr>\n",
       "    <tr>\n",
       "      <th>Repayment Of Debt</th>\n",
       "      <td>-1.250000e+09</td>\n",
       "      <td>-1.250000e+09</td>\n",
       "      <td>0.000000e+00</td>\n",
       "      <td>-1.000000e+09</td>\n",
       "      <td>NaN</td>\n",
       "    </tr>\n",
       "    <tr>\n",
       "      <th>Issuance Of Debt</th>\n",
       "      <td>NaN</td>\n",
       "      <td>0.000000e+00</td>\n",
       "      <td>0.000000e+00</td>\n",
       "      <td>4.977000e+09</td>\n",
       "      <td>4.968000e+09</td>\n",
       "    </tr>\n",
       "    <tr>\n",
       "      <th>Capital Expenditure</th>\n",
       "      <td>-3.236000e+09</td>\n",
       "      <td>-1.069000e+09</td>\n",
       "      <td>-1.833000e+09</td>\n",
       "      <td>-9.760000e+08</td>\n",
       "      <td>NaN</td>\n",
       "    </tr>\n",
       "  </tbody>\n",
       "</table>\n",
       "</div>"
      ],
      "text/plain": [
       "                               2025-01-31    2024-01-31    2023-01-31  \\\n",
       "Free Cash Flow               6.085300e+10  2.702100e+10  3.808000e+09   \n",
       "Repurchase Of Capital Stock -3.370600e+10 -9.533000e+09 -1.003900e+10   \n",
       "Repayment Of Debt           -1.250000e+09 -1.250000e+09  0.000000e+00   \n",
       "Issuance Of Debt                      NaN  0.000000e+00  0.000000e+00   \n",
       "Capital Expenditure         -3.236000e+09 -1.069000e+09 -1.833000e+09   \n",
       "\n",
       "                               2022-01-31    2021-01-31  \n",
       "Free Cash Flow               8.132000e+09           NaN  \n",
       "Repurchase Of Capital Stock  0.000000e+00           NaN  \n",
       "Repayment Of Debt           -1.000000e+09           NaN  \n",
       "Issuance Of Debt             4.977000e+09  4.968000e+09  \n",
       "Capital Expenditure         -9.760000e+08           NaN  "
      ]
     },
     "metadata": {},
     "output_type": "display_data"
    }
   ],
   "source": [
    "financials = ticker.financials\n",
    "balance_sheet = ticker.balance_sheet\n",
    "cashflow = ticker.cashflow\n",
    "\n",
    "print(\"=== Income Statement (head) ===\")\n",
    "display(financials.head())\n",
    "\n",
    "print(\"=== Balance Sheet (head) ===\")\n",
    "display(balance_sheet.head())\n",
    "\n",
    "print(\"=== Cashflow (head) ===\")\n",
    "display(cashflow.head())\n"
   ]
  },
  {
   "cell_type": "markdown",
   "id": "518e87af-bd71-4ca9-aeec-518e5355e8e5",
   "metadata": {},
   "source": [
    "### Milestone 2 "
   ]
  },
  {
   "cell_type": "code",
   "execution_count": 19,
   "id": "5abfb69e-cc96-477d-b5a2-736feeafcacc",
   "metadata": {},
   "outputs": [
    {
     "name": "stdout",
     "output_type": "stream",
     "text": [
      "Requirement already satisfied: requests in c:\\users\\yogsa\\anaconda3\\lib\\site-packages (2.32.5)\n",
      "Requirement already satisfied: python-dotenv in c:\\users\\yogsa\\anaconda3\\lib\\site-packages (0.21.0)\n",
      "Requirement already satisfied: pandas in c:\\users\\yogsa\\anaconda3\\lib\\site-packages (2.3.2)\n",
      "Requirement already satisfied: feedparser in c:\\users\\yogsa\\anaconda3\\lib\\site-packages (6.0.12)\n",
      "Requirement already satisfied: beautifulsoup4 in c:\\users\\yogsa\\anaconda3\\lib\\site-packages (4.12.2)\n",
      "Requirement already satisfied: tqdm in c:\\users\\yogsa\\anaconda3\\lib\\site-packages (4.67.1)\n",
      "Requirement already satisfied: python-dateutil in c:\\users\\yogsa\\anaconda3\\lib\\site-packages (2.9.0.post0)\n",
      "Requirement already satisfied: charset_normalizer<4,>=2 in c:\\users\\yogsa\\anaconda3\\lib\\site-packages (from requests) (3.4.3)\n",
      "Requirement already satisfied: idna<4,>=2.5 in c:\\users\\yogsa\\anaconda3\\lib\\site-packages (from requests) (3.10)\n",
      "Requirement already satisfied: urllib3<3,>=1.21.1 in c:\\users\\yogsa\\anaconda3\\lib\\site-packages (from requests) (2.5.0)\n",
      "Requirement already satisfied: certifi>=2017.4.17 in c:\\users\\yogsa\\anaconda3\\lib\\site-packages (from requests) (2025.8.3)\n",
      "Requirement already satisfied: numpy>=1.23.2 in c:\\users\\yogsa\\anaconda3\\lib\\site-packages (from pandas) (1.26.4)\n",
      "Requirement already satisfied: pytz>=2020.1 in c:\\users\\yogsa\\anaconda3\\lib\\site-packages (from pandas) (2025.2)\n",
      "Requirement already satisfied: tzdata>=2022.7 in c:\\users\\yogsa\\anaconda3\\lib\\site-packages (from pandas) (2025.2)\n",
      "Requirement already satisfied: sgmllib3k in c:\\users\\yogsa\\anaconda3\\lib\\site-packages (from feedparser) (1.0.0)\n",
      "Requirement already satisfied: soupsieve>1.2 in c:\\users\\yogsa\\anaconda3\\lib\\site-packages (from beautifulsoup4) (2.5)\n",
      "Requirement already satisfied: colorama in c:\\users\\yogsa\\anaconda3\\lib\\site-packages (from tqdm) (0.4.6)\n",
      "Requirement already satisfied: six>=1.5 in c:\\users\\yogsa\\anaconda3\\lib\\site-packages (from python-dateutil) (1.17.0)\n"
     ]
    }
   ],
   "source": [
    "!pip install requests python-dotenv pandas feedparser beautifulsoup4 tqdm python-dateutil\n"
   ]
  },
  {
   "cell_type": "code",
   "execution_count": 126,
   "id": "1202452b-6329-4b4c-b600-a2e69d5a1664",
   "metadata": {},
   "outputs": [
    {
     "name": "stdout",
     "output_type": "stream",
     "text": [
      "NEWSAPI key present?  True\n"
     ]
    }
   ],
   "source": [
    "import os, json, time, re, math, requests, feedparser\n",
    "import pandas as pd\n",
    "from bs4 import BeautifulSoup\n",
    "from tqdm import tqdm\n",
    "from datetime import datetime, timedelta, timezone\n",
    "from dateutil import parser as dateparser\n",
    "from dotenv import load_dotenv\n",
    "\n",
    "load_dotenv(\"keys.env\")  # expects NEWSAPI_KEY inside (optional for SEC)\n",
    "NEWSAPI_KEY = os.getenv(\"NEWSAPI_KEY\")\n",
    "\n",
    "os.makedirs(\"data/news\", exist_ok=True)\n",
    "os.makedirs(\"data/filings/raw_html\", exist_ok=True)\n",
    "os.makedirs(\"data/filings/clean_text\", exist_ok=True)\n",
    "\n",
    "print(\"NEWSAPI key present? \", bool(NEWSAPI_KEY))\n"
   ]
  },
  {
   "cell_type": "markdown",
   "id": "b7a16ea0-69c5-4377-935b-4c87c975da39",
   "metadata": {},
   "source": [
    "#### Part A — Financial News (NewsAPI)\n",
    "#### Cell 3 — Helper: fetch last N days of news"
   ]
  },
  {
   "cell_type": "code",
   "execution_count": 129,
   "id": "8ddcfc3a-b30e-4df5-b591-0b4e94a73597",
   "metadata": {},
   "outputs": [],
   "source": [
    "def fetch_news_newsapi(query: str, days: int = 7, page_size: int = 50, max_pages: int = 2):\n",
    "    \"\"\"\n",
    "    Fetch recent news via NewsAPI (requires NEWSAPI_KEY in keys.env).\n",
    "    Returns a list of dicts with minimal fields.\n",
    "    \"\"\"\n",
    "    if not NEWSAPI_KEY:\n",
    "        raise RuntimeError(\"NEWSAPI_KEY missing in keys.env\")\n",
    "\n",
    "    to_date = datetime.utcnow().date()\n",
    "    from_date = to_date - timedelta(days=days)\n",
    "\n",
    "    base = \"https://newsapi.org/v2/everything\"\n",
    "    headers = {\"X-Api-Key\": NEWSAPI_KEY}\n",
    "    all_items = []\n",
    "\n",
    "    for page in range(1, max_pages + 1):\n",
    "        params = {\n",
    "            \"q\": query,\n",
    "            \"from\": from_date.isoformat(),\n",
    "            \"to\": to_date.isoformat(),\n",
    "            \"sortBy\": \"publishedAt\",\n",
    "            \"pageSize\": page_size,\n",
    "            \"page\": page,\n",
    "            \"language\": \"en\"\n",
    "        }\n",
    "        r = requests.get(base, headers=headers, params=params, timeout=30)\n",
    "        r.raise_for_status()\n",
    "        data = r.json()\n",
    "        items = data.get(\"articles\", [])\n",
    "        for a in items:\n",
    "            all_items.append({\n",
    "                \"source_id\": a.get(\"source\", {}).get(\"id\"),\n",
    "                \"source_name\": a.get(\"source\", {}).get(\"name\"),\n",
    "                \"title\": a.get(\"title\"),\n",
    "                \"description\": a.get(\"description\"),\n",
    "                \"url\": a.get(\"url\"),\n",
    "                \"published_at\": a.get(\"publishedAt\"),\n",
    "                \"author\": a.get(\"author\"),\n",
    "                \"content\": a.get(\"content\")\n",
    "            })\n",
    "        if len(items) < page_size:\n",
    "            break\n",
    "        time.sleep(0.5)  # be polite\n",
    "    return all_items\n",
    "    \n"
   ]
  },
  {
   "cell_type": "markdown",
   "id": "c2c84f7f-1075-444f-a077-40b9d44da2a9",
   "metadata": {},
   "source": [
    "### Cell 4 — Helper: dedupe + save news"
   ]
  },
  {
   "cell_type": "code",
   "execution_count": 132,
   "id": "101bab8e-73b2-4bd6-a078-a14be950eb7e",
   "metadata": {},
   "outputs": [],
   "source": [
    "def dedupe_news(items):\n",
    "    \"\"\"\n",
    "    Deduplicate by (normalized title, source_name). Returns list.\n",
    "    \"\"\"\n",
    "    seen = set()\n",
    "    out = []\n",
    "    for it in items:\n",
    "        title = (it.get(\"title\") or \"\").strip().lower()\n",
    "        title = re.sub(r\"\\s+\", \" \", title)\n",
    "        key = (title, (it.get(\"source_name\") or \"\").lower())\n",
    "        if title and key not in seen:\n",
    "            seen.add(key)\n",
    "            out.append(it)\n",
    "    return out\n",
    "\n",
    "def save_json(obj, path):\n",
    "    with open(path, \"w\", encoding=\"utf-8\") as f:\n",
    "        json.dump(obj, f, indent=2, ensure_ascii=False)\n"
   ]
  },
  {
   "cell_type": "markdown",
   "id": "51348a77-6c83-4f9e-bb46-e50550c604b1",
   "metadata": {},
   "source": [
    "### Cell 5 — Run: fetch NVDA news (last 7 days)\n"
   ]
  },
  {
   "cell_type": "code",
   "execution_count": null,
   "id": "9289f25f-4a0e-48cb-985d-3a1afe50309d",
   "metadata": {},
   "outputs": [],
   "source": []
  },
  {
   "cell_type": "code",
   "execution_count": 136,
   "id": "fa4e2e10-8c37-4ddf-ad0c-aceacda3c70c",
   "metadata": {},
   "outputs": [
    {
     "name": "stdout",
     "output_type": "stream",
     "text": [
      "Saved 99 deduped articles → data/news/NVDA_news_last7.json\n"
     ]
    },
    {
     "data": {
      "text/html": [
       "<div>\n",
       "<style scoped>\n",
       "    .dataframe tbody tr th:only-of-type {\n",
       "        vertical-align: middle;\n",
       "    }\n",
       "\n",
       "    .dataframe tbody tr th {\n",
       "        vertical-align: top;\n",
       "    }\n",
       "\n",
       "    .dataframe thead th {\n",
       "        text-align: right;\n",
       "    }\n",
       "</style>\n",
       "<table border=\"1\" class=\"dataframe\">\n",
       "  <thead>\n",
       "    <tr style=\"text-align: right;\">\n",
       "      <th></th>\n",
       "      <th>published_at</th>\n",
       "      <th>source_name</th>\n",
       "      <th>title</th>\n",
       "    </tr>\n",
       "  </thead>\n",
       "  <tbody>\n",
       "    <tr>\n",
       "      <th>0</th>\n",
       "      <td>2025-10-08T23:53:40Z</td>\n",
       "      <td>Biztoc.com</td>\n",
       "      <td>Gold Falls From Record as Traders Take Profit ...</td>\n",
       "    </tr>\n",
       "    <tr>\n",
       "      <th>1</th>\n",
       "      <td>2025-10-08T23:52:05Z</td>\n",
       "      <td>CNBC</td>\n",
       "      <td>Asia-Pacific markets set to open higher, track...</td>\n",
       "    </tr>\n",
       "    <tr>\n",
       "      <th>2</th>\n",
       "      <td>2025-10-08T23:42:21Z</td>\n",
       "      <td>Biztoc.com</td>\n",
       "      <td>Jensen Huang said his family wouldn't have bee...</td>\n",
       "    </tr>\n",
       "    <tr>\n",
       "      <th>3</th>\n",
       "      <td>2025-10-08T23:29:08Z</td>\n",
       "      <td>Business Insider</td>\n",
       "      <td>Jensen Huang said his family wouldn't have bee...</td>\n",
       "    </tr>\n",
       "    <tr>\n",
       "      <th>4</th>\n",
       "      <td>2025-10-08T23:20:21Z</td>\n",
       "      <td>Bloomberg</td>\n",
       "      <td>SoftBank-owned Graphcore to invest $1.3 billio...</td>\n",
       "    </tr>\n",
       "    <tr>\n",
       "      <th>5</th>\n",
       "      <td>2025-10-08T23:17:49Z</td>\n",
       "      <td>Yahoo Entertainment</td>\n",
       "      <td>Stock market today: Dow, S&amp;P 500, Nasdaq futur...</td>\n",
       "    </tr>\n",
       "    <tr>\n",
       "      <th>6</th>\n",
       "      <td>2025-10-08T23:10:44Z</td>\n",
       "      <td>Slickdeals.net</td>\n",
       "      <td>Refurb: PNY GeForce RTX 5070 OC 12GB GDDR7 Gra...</td>\n",
       "    </tr>\n",
       "    <tr>\n",
       "      <th>7</th>\n",
       "      <td>2025-10-08T23:10:33Z</td>\n",
       "      <td>Theregister.com</td>\n",
       "      <td>CoreWeave bets on serverless agent builder to ...</td>\n",
       "    </tr>\n",
       "    <tr>\n",
       "      <th>8</th>\n",
       "      <td>2025-10-08T23:09:51Z</td>\n",
       "      <td>WSOC Charlotte</td>\n",
       "      <td>Financial institutions sound warning about an ...</td>\n",
       "    </tr>\n",
       "    <tr>\n",
       "      <th>9</th>\n",
       "      <td>2025-10-08T23:08:56Z</td>\n",
       "      <td>Biztoc.com</td>\n",
       "      <td>Even after Stargate, Oracle, Nvidia and AMD, O...</td>\n",
       "    </tr>\n",
       "  </tbody>\n",
       "</table>\n",
       "</div>"
      ],
      "text/plain": [
       "           published_at          source_name  \\\n",
       "0  2025-10-08T23:53:40Z           Biztoc.com   \n",
       "1  2025-10-08T23:52:05Z                 CNBC   \n",
       "2  2025-10-08T23:42:21Z           Biztoc.com   \n",
       "3  2025-10-08T23:29:08Z     Business Insider   \n",
       "4  2025-10-08T23:20:21Z            Bloomberg   \n",
       "5  2025-10-08T23:17:49Z  Yahoo Entertainment   \n",
       "6  2025-10-08T23:10:44Z       Slickdeals.net   \n",
       "7  2025-10-08T23:10:33Z      Theregister.com   \n",
       "8  2025-10-08T23:09:51Z       WSOC Charlotte   \n",
       "9  2025-10-08T23:08:56Z           Biztoc.com   \n",
       "\n",
       "                                               title  \n",
       "0  Gold Falls From Record as Traders Take Profit ...  \n",
       "1  Asia-Pacific markets set to open higher, track...  \n",
       "2  Jensen Huang said his family wouldn't have bee...  \n",
       "3  Jensen Huang said his family wouldn't have bee...  \n",
       "4  SoftBank-owned Graphcore to invest $1.3 billio...  \n",
       "5  Stock market today: Dow, S&P 500, Nasdaq futur...  \n",
       "6  Refurb: PNY GeForce RTX 5070 OC 12GB GDDR7 Gra...  \n",
       "7  CoreWeave bets on serverless agent builder to ...  \n",
       "8  Financial institutions sound warning about an ...  \n",
       "9  Even after Stargate, Oracle, Nvidia and AMD, O...  "
      ]
     },
     "metadata": {},
     "output_type": "display_data"
    }
   ],
   "source": [
    "# Robust NewsAPI fetch: prints error details, tries header & query auth, avoids 24h delay pitfall\n",
    "\n",
    "import os, json, re, time, requests, pandas as pd\n",
    "from datetime import datetime, timedelta\n",
    "from dotenv import load_dotenv\n",
    "\n",
    "load_dotenv(\"keys.env\")\n",
    "NEWSAPI_KEY = os.getenv(\"NEWSAPI_KEY\")\n",
    "if not NEWSAPI_KEY:\n",
    "    raise ValueError(\"NEWSAPI_KEY missing in keys.env\")\n",
    "\n",
    "os.makedirs(\"data/news\", exist_ok=True)\n",
    "\n",
    "def fetch_news_newsapi_safe(query: str, days: int = 7, page_size: int = 50, max_pages: int = 2):\n",
    "    url = \"https://newsapi.org/v2/everything\"\n",
    "\n",
    "    # Free plan has ~24h delay: use up-to \"yesterday\" to avoid empty/error edge cases\n",
    "    today_utc = datetime.utcnow().date()\n",
    "    to_date = today_utc - timedelta(days=1)           # yesterday\n",
    "    from_date = to_date - timedelta(days=days-1)      # N days ending yesterday\n",
    "\n",
    "    all_items = []\n",
    "    last_error = None\n",
    "\n",
    "    for page in range(1, max_pages + 1):\n",
    "        params = {\n",
    "            \"q\": query,\n",
    "            \"from\": from_date.isoformat(),\n",
    "            \"to\": to_date.isoformat(),\n",
    "            \"language\": \"en\",\n",
    "            \"sortBy\": \"publishedAt\",\n",
    "            \"pageSize\": page_size,\n",
    "            \"page\": page,\n",
    "        }\n",
    "\n",
    "        # --- Try header auth first ---\n",
    "        r = requests.get(url, headers={\"X-Api-Key\": NEWSAPI_KEY}, params=params, timeout=30)\n",
    "        data = {}\n",
    "        try:\n",
    "            data = r.json()\n",
    "        except Exception:\n",
    "            pass\n",
    "\n",
    "        if r.status_code == 200 and data.get(\"status\") == \"ok\":\n",
    "            items = data.get(\"articles\", [])\n",
    "            all_items.extend(items)\n",
    "            if len(items) < page_size:\n",
    "                break\n",
    "            time.sleep(0.5)\n",
    "            continue\n",
    "\n",
    "        # --- If header auth failed, try apiKey in query ---\n",
    "        params_with_key = dict(params)\n",
    "        params_with_key[\"apiKey\"] = NEWSAPI_KEY\n",
    "        r2 = requests.get(url, params=params_with_key, timeout=30)\n",
    "        data2 = {}\n",
    "        try:\n",
    "            data2 = r2.json()\n",
    "        except Exception:\n",
    "            pass\n",
    "\n",
    "        if r2.status_code == 200 and data2.get(\"status\") == \"ok\":\n",
    "            items = data2.get(\"articles\", [])\n",
    "            all_items.extend(items)\n",
    "            if len(items) < page_size:\n",
    "                break\n",
    "            time.sleep(0.5)\n",
    "            continue\n",
    "\n",
    "        # --- Collect debug info and stop trying this page ---\n",
    "        last_error = {\n",
    "            \"first_try\": {\"status_code\": r.status_code, \"json\": data},\n",
    "            \"second_try\": {\"status_code\": r2.status_code, \"json\": data2},\n",
    "            \"params_used\": params_with_key,\n",
    "        }\n",
    "        print(\"NewsAPI error on page\", page, \"→ debug dump below:\")\n",
    "        print(json.dumps(last_error, indent=2))\n",
    "        break\n",
    "\n",
    "    return all_items, last_error\n",
    "\n",
    "def dedupe_news(items):\n",
    "    seen, out = set(), []\n",
    "    for it in items:\n",
    "        title = (it.get(\"title\") or \"\").strip().lower()\n",
    "        title = re.sub(r\"\\s+\", \" \", title)\n",
    "        source_name = ((it.get(\"source\") or {}).get(\"name\") or \"\").lower()\n",
    "        key = (title, source_name)\n",
    "        if title and key not in seen:\n",
    "            seen.add(key)\n",
    "            out.append({\n",
    "                \"source_id\": (it.get(\"source\") or {}).get(\"id\"),\n",
    "                \"source_name\": (it.get(\"source\") or {}).get(\"name\"),\n",
    "                \"title\": it.get(\"title\"),\n",
    "                \"description\": it.get(\"description\"),\n",
    "                \"url\": it.get(\"url\"),\n",
    "                \"published_at\": it.get(\"publishedAt\"),\n",
    "                \"author\": it.get(\"author\"),\n",
    "                \"content\": it.get(\"content\"),\n",
    "            })\n",
    "    return out\n",
    "\n",
    "def save_json(obj, path):\n",
    "    with open(path, \"w\", encoding=\"utf-8\") as f:\n",
    "        json.dump(obj, f, indent=2, ensure_ascii=False)\n",
    "\n",
    "# ---- Run section ----\n",
    "TICKER = \"NVDA\"\n",
    "QUERY = \"NVIDIA OR NVDA\"\n",
    "\n",
    "news_items_raw, debug_info = fetch_news_newsapi_safe(QUERY, days=7, page_size=50, max_pages=2)\n",
    "news_items = dedupe_news(news_items_raw)\n",
    "\n",
    "news_path = f\"data/news/{TICKER}_news_last7.json\"\n",
    "save_json(news_items, news_path)\n",
    "\n",
    "print(f\"Saved {len(news_items)} deduped articles → {news_path}\")\n",
    "\n",
    "if news_items:\n",
    "    display(pd.DataFrame(news_items)[[\"published_at\", \"source_name\", \"title\"]].head(10))\n",
    "elif debug_info:\n",
    "    print(\"No articles saved. See debug info above for the exact 401/429/invalid-key message.\")\n",
    "else:\n",
    "    print(\"No articles returned (possibly due to the free plan delay or narrow query). Try widening the date window.\")\n"
   ]
  },
  {
   "cell_type": "markdown",
   "id": "f7dfc20c-3011-4bbb-b2da-8892d0a6d0d9",
   "metadata": {},
   "source": [
    "#### Part B — SEC EDGAR filings (no API key)\n",
    "\n",
    "We’ll use the EDGAR Atom feed for a company CIK and download a few recent filings, then clean to plain text.\n",
    "\n",
    "NVDA CIK is 0001045810. We can add more mappings later."
   ]
  },
  {
   "cell_type": "code",
   "execution_count": 139,
   "id": "682ebb04-7786-450e-b938-6bfe148244c0",
   "metadata": {},
   "outputs": [],
   "source": [
    "HEADERS = {\n",
    "    # Set a descriptive User-Agent per SEC guidance\n",
    "    \"User-Agent\": \"StudentResearchAgent/1.0 your.email@example.com\",\n",
    "}\n",
    "\n",
    "def get_company_feed_by_cik(cik: str, count: int = 20):\n",
    "    \"\"\"\n",
    "    Returns parsed Atom feed entries for a given CIK.\n",
    "    \"\"\"\n",
    "    url = f\"https://www.sec.gov/cgi-bin/browse-edgar?action=getcompany&CIK={cik}&type=&count={count}&owner=exclude&output=atom\"\n",
    "    r = requests.get(url, headers=HEADERS, timeout=30)\n",
    "    r.raise_for_status()\n",
    "    return feedparser.parse(r.text)\n",
    "\n",
    "def fetch_url_text(url: str) -> str:\n",
    "    r = requests.get(url, headers=HEADERS, timeout=30)\n",
    "    r.raise_for_status()\n",
    "    return r.text\n",
    "\n",
    "def clean_html_to_text(html: str) -> str:\n",
    "    soup = BeautifulSoup(html, \"html.parser\")\n",
    "    # remove scripts/styles\n",
    "    for tag in soup([\"script\", \"style\"]):\n",
    "        tag.decompose()\n",
    "    text = soup.get_text(separator=\"\\n\")\n",
    "    # normalize whitespace\n",
    "    text = re.sub(r\"\\n\\s*\\n+\", \"\\n\\n\", text)\n",
    "    text = re.sub(r\"[ \\t]+\", \" \", text)\n",
    "    return text.strip()\n"
   ]
  },
  {
   "cell_type": "markdown",
   "id": "0b7283d3-cbc4-452f-a638-3ee8d29ca385",
   "metadata": {},
   "source": [
    "#### Cell 7 — Helper: find candidate filings + download primary doc"
   ]
  },
  {
   "cell_type": "code",
   "execution_count": 142,
   "id": "6663b34f-aa84-4c91-b934-0e89eb0d66ce",
   "metadata": {},
   "outputs": [],
   "source": [
    "def filter_entries_by_form(entries, form_types=(\"8-K\",\"10-Q\",\"10-K\"), max_items=5):\n",
    "    out = []\n",
    "    for e in entries:\n",
    "        title = e.get(\"title\", \"\")\n",
    "        # Titles look like: \"10-Q - NVIDIA CORP (0001045810) (Filer)\"\n",
    "        if any(ft in title for ft in form_types):\n",
    "            out.append(e)\n",
    "        if len(out) >= max_items:\n",
    "            break\n",
    "    return out\n",
    "\n",
    "def fetch_filing_documents(entry):\n",
    "    \"\"\"\n",
    "    Given a feed entry, go to the filing page and try to extract primary document link(s).\n",
    "    Returns list of dicts: [{doc_url, raw_html_path, clean_txt_path, form_type, filing_date, title}]\n",
    "    \"\"\"\n",
    "    filing_page_url = entry.get(\"link\")\n",
    "    title = entry.get(\"title\", \"\")\n",
    "    filing_date = entry.get(\"updated\") or entry.get(\"published\")\n",
    "    # Download filing page\n",
    "    html = fetch_url_text(filing_page_url)\n",
    "    soup = BeautifulSoup(html, \"html.parser\")\n",
    "\n",
    "    # Heuristic: document table links contain 'Documents' or direct .htm/.html\n",
    "    doc_links = []\n",
    "    for a in soup.find_all(\"a\", href=True):\n",
    "        href = a[\"href\"]\n",
    "        if href.endswith((\".htm\", \".html\")) and \"Archives/edgar/data\" in href:\n",
    "            # Make absolute if needed\n",
    "            if href.startswith(\"/\"):\n",
    "                doc_url = \"https://www.sec.gov\" + href\n",
    "            elif href.startswith(\"http\"):\n",
    "                doc_url = href\n",
    "            else:\n",
    "                doc_url = \"https://www.sec.gov/\" + href\n",
    "            doc_links.append(doc_url)\n",
    "\n",
    "    # De-duplicate, keep a few\n",
    "    seen = set()\n",
    "    docs = []\n",
    "    for doc_url in doc_links[:3]:\n",
    "        if doc_url in seen: \n",
    "            continue\n",
    "        seen.add(doc_url)\n",
    "        try:\n",
    "            raw_html = fetch_url_text(doc_url)\n",
    "            clean_txt = clean_html_to_text(raw_html)\n",
    "\n",
    "            # save artifacts\n",
    "            ts = datetime.utcnow().strftime(\"%Y%m%dT%H%M%S\")\n",
    "            safe_form = re.sub(r\"[^A-Za-z0-9_-]+\", \"_\", title.split(\"-\")[0].strip())\n",
    "            base = f\"{safe_form}_{ts}\"\n",
    "\n",
    "            raw_path = f\"data/filings/raw_html/{base}.html\"\n",
    "            txt_path = f\"data/filings/clean_text/{base}.txt\"\n",
    "\n",
    "            with open(raw_path, \"w\", encoding=\"utf-8\") as f:\n",
    "                f.write(raw_html)\n",
    "            with open(txt_path, \"w\", encoding=\"utf-8\") as f:\n",
    "                f.write(clean_txt)\n",
    "\n",
    "            docs.append({\n",
    "                \"form_type\": title.split(\"-\")[0].strip(),\n",
    "                \"title\": title,\n",
    "                \"filing_date\": filing_date,\n",
    "                \"filing_page\": filing_page_url,\n",
    "                \"doc_url\": doc_url,\n",
    "                \"raw_html_path\": raw_path,\n",
    "                \"clean_txt_path\": txt_path\n",
    "            })\n",
    "            time.sleep(0.3)\n",
    "        except Exception as ex:\n",
    "            print(\"Failed to fetch doc:\", doc_url, ex)\n",
    "            continue\n",
    "    return docs\n"
   ]
  },
  {
   "cell_type": "markdown",
   "id": "5d1ad80a-b611-4c94-91b6-505748e0ca21",
   "metadata": {},
   "source": [
    "### Cell 8 — Run: fetch NVDA filings"
   ]
  },
  {
   "cell_type": "code",
   "execution_count": 145,
   "id": "006205e3-7864-4b1c-bd0f-437514245ca5",
   "metadata": {},
   "outputs": [
    {
     "name": "stderr",
     "output_type": "stream",
     "text": [
      "Downloading filings: 100%|███████████████████████████████████████████████████████████████| 5/5 [00:17<00:00,  3.50s/it]"
     ]
    },
    {
     "name": "stdout",
     "output_type": "stream",
     "text": [
      "Saved 11 documents. Index: data/filings/filings_index.json\n"
     ]
    },
    {
     "name": "stderr",
     "output_type": "stream",
     "text": [
      "\n"
     ]
    },
    {
     "data": {
      "text/html": [
       "<div>\n",
       "<style scoped>\n",
       "    .dataframe tbody tr th:only-of-type {\n",
       "        vertical-align: middle;\n",
       "    }\n",
       "\n",
       "    .dataframe tbody tr th {\n",
       "        vertical-align: top;\n",
       "    }\n",
       "\n",
       "    .dataframe thead th {\n",
       "        text-align: right;\n",
       "    }\n",
       "</style>\n",
       "<table border=\"1\" class=\"dataframe\">\n",
       "  <thead>\n",
       "    <tr style=\"text-align: right;\">\n",
       "      <th></th>\n",
       "      <th>form_type</th>\n",
       "      <th>filing_date</th>\n",
       "      <th>title</th>\n",
       "      <th>doc_url</th>\n",
       "    </tr>\n",
       "  </thead>\n",
       "  <tbody>\n",
       "    <tr>\n",
       "      <th>0</th>\n",
       "      <td>10</td>\n",
       "      <td>2025-08-27T16:52:07-04:00</td>\n",
       "      <td>10-Q  - Quarterly report [Sections 13 or 15(d)]</td>\n",
       "      <td>https://www.sec.gov/ix?doc=/Archives/edgar/dat...</td>\n",
       "    </tr>\n",
       "    <tr>\n",
       "      <th>1</th>\n",
       "      <td>10</td>\n",
       "      <td>2025-08-27T16:52:07-04:00</td>\n",
       "      <td>10-Q  - Quarterly report [Sections 13 or 15(d)]</td>\n",
       "      <td>https://www.sec.gov/Archives/edgar/data/104581...</td>\n",
       "    </tr>\n",
       "    <tr>\n",
       "      <th>2</th>\n",
       "      <td>10</td>\n",
       "      <td>2025-08-27T16:52:07-04:00</td>\n",
       "      <td>10-Q  - Quarterly report [Sections 13 or 15(d)]</td>\n",
       "      <td>https://www.sec.gov/Archives/edgar/data/104581...</td>\n",
       "    </tr>\n",
       "    <tr>\n",
       "      <th>3</th>\n",
       "      <td>8</td>\n",
       "      <td>2025-08-27T16:22:14-04:00</td>\n",
       "      <td>8-K  - Current report</td>\n",
       "      <td>https://www.sec.gov/ix?doc=/Archives/edgar/dat...</td>\n",
       "    </tr>\n",
       "    <tr>\n",
       "      <th>4</th>\n",
       "      <td>8</td>\n",
       "      <td>2025-08-27T16:22:14-04:00</td>\n",
       "      <td>8-K  - Current report</td>\n",
       "      <td>https://www.sec.gov/Archives/edgar/data/104581...</td>\n",
       "    </tr>\n",
       "    <tr>\n",
       "      <th>5</th>\n",
       "      <td>8</td>\n",
       "      <td>2025-08-27T16:22:14-04:00</td>\n",
       "      <td>8-K  - Current report</td>\n",
       "      <td>https://www.sec.gov/Archives/edgar/data/104581...</td>\n",
       "    </tr>\n",
       "    <tr>\n",
       "      <th>6</th>\n",
       "      <td>8</td>\n",
       "      <td>2025-08-05T16:31:08-04:00</td>\n",
       "      <td>8-K  - Current report</td>\n",
       "      <td>https://www.sec.gov/ix?doc=/Archives/edgar/dat...</td>\n",
       "    </tr>\n",
       "    <tr>\n",
       "      <th>7</th>\n",
       "      <td>8</td>\n",
       "      <td>2025-06-30T18:35:29-04:00</td>\n",
       "      <td>8-K  - Current report</td>\n",
       "      <td>https://www.sec.gov/ix?doc=/Archives/edgar/dat...</td>\n",
       "    </tr>\n",
       "    <tr>\n",
       "      <th>8</th>\n",
       "      <td>10</td>\n",
       "      <td>2025-05-28T16:32:57-04:00</td>\n",
       "      <td>10-Q  - Quarterly report [Sections 13 or 15(d)]</td>\n",
       "      <td>https://www.sec.gov/ix?doc=/Archives/edgar/dat...</td>\n",
       "    </tr>\n",
       "    <tr>\n",
       "      <th>9</th>\n",
       "      <td>10</td>\n",
       "      <td>2025-05-28T16:32:57-04:00</td>\n",
       "      <td>10-Q  - Quarterly report [Sections 13 or 15(d)]</td>\n",
       "      <td>https://www.sec.gov/Archives/edgar/data/104581...</td>\n",
       "    </tr>\n",
       "  </tbody>\n",
       "</table>\n",
       "</div>"
      ],
      "text/plain": [
       "  form_type                filing_date  \\\n",
       "0        10  2025-08-27T16:52:07-04:00   \n",
       "1        10  2025-08-27T16:52:07-04:00   \n",
       "2        10  2025-08-27T16:52:07-04:00   \n",
       "3         8  2025-08-27T16:22:14-04:00   \n",
       "4         8  2025-08-27T16:22:14-04:00   \n",
       "5         8  2025-08-27T16:22:14-04:00   \n",
       "6         8  2025-08-05T16:31:08-04:00   \n",
       "7         8  2025-06-30T18:35:29-04:00   \n",
       "8        10  2025-05-28T16:32:57-04:00   \n",
       "9        10  2025-05-28T16:32:57-04:00   \n",
       "\n",
       "                                             title  \\\n",
       "0  10-Q  - Quarterly report [Sections 13 or 15(d)]   \n",
       "1  10-Q  - Quarterly report [Sections 13 or 15(d)]   \n",
       "2  10-Q  - Quarterly report [Sections 13 or 15(d)]   \n",
       "3                            8-K  - Current report   \n",
       "4                            8-K  - Current report   \n",
       "5                            8-K  - Current report   \n",
       "6                            8-K  - Current report   \n",
       "7                            8-K  - Current report   \n",
       "8  10-Q  - Quarterly report [Sections 13 or 15(d)]   \n",
       "9  10-Q  - Quarterly report [Sections 13 or 15(d)]   \n",
       "\n",
       "                                             doc_url  \n",
       "0  https://www.sec.gov/ix?doc=/Archives/edgar/dat...  \n",
       "1  https://www.sec.gov/Archives/edgar/data/104581...  \n",
       "2  https://www.sec.gov/Archives/edgar/data/104581...  \n",
       "3  https://www.sec.gov/ix?doc=/Archives/edgar/dat...  \n",
       "4  https://www.sec.gov/Archives/edgar/data/104581...  \n",
       "5  https://www.sec.gov/Archives/edgar/data/104581...  \n",
       "6  https://www.sec.gov/ix?doc=/Archives/edgar/dat...  \n",
       "7  https://www.sec.gov/ix?doc=/Archives/edgar/dat...  \n",
       "8  https://www.sec.gov/ix?doc=/Archives/edgar/dat...  \n",
       "9  https://www.sec.gov/Archives/edgar/data/104581...  "
      ]
     },
     "execution_count": 145,
     "metadata": {},
     "output_type": "execute_result"
    }
   ],
   "source": [
    "# Known CIK for NVIDIA\n",
    "CIK = \"0001045810\"\n",
    "\n",
    "feed = get_company_feed_by_cik(CIK, count=40)\n",
    "entries = feed.get(\"entries\", [])\n",
    "candidates = filter_entries_by_form(entries, form_types=(\"8-K\",\"10-Q\"), max_items=5)\n",
    "\n",
    "all_docs = []\n",
    "for e in tqdm(candidates, desc=\"Downloading filings\"):\n",
    "    docs = fetch_filing_documents(e)\n",
    "    all_docs.extend(docs)\n",
    "\n",
    "filings_index_path = \"data/filings/filings_index.json\"\n",
    "with open(filings_index_path, \"w\", encoding=\"utf-8\") as f:\n",
    "    json.dump(all_docs, f, indent=2)\n",
    "\n",
    "print(f\"Saved {len(all_docs)} documents. Index:\", filings_index_path)\n",
    "pd.DataFrame(all_docs)[[\"form_type\",\"filing_date\",\"title\",\"doc_url\"]].head(10)\n"
   ]
  },
  {
   "cell_type": "markdown",
   "id": "00ddc463-0ed8-408e-943c-e392b4ba3448",
   "metadata": {},
   "source": [
    "### MILE STONE 3 "
   ]
  },
  {
   "cell_type": "markdown",
   "id": "cc018133-8db0-4628-932f-ec8a17f0eafe",
   "metadata": {},
   "source": [
    "Milestone 3 is Prompt Chaining: Classify → Extract (JSON) using your OpenAI key. Here are clean, copy-pasteable Jupyter cells with brief notes."
   ]
  },
  {
   "cell_type": "markdown",
   "id": "302e99ba-0fc8-4ffe-af6b-795d332d71bf",
   "metadata": {},
   "source": [
    "Cell 1 — Install deps (once)"
   ]
  },
  {
   "cell_type": "code",
   "execution_count": 150,
   "id": "ec6de7c8-699c-4ac7-99f9-9d7252488e92",
   "metadata": {},
   "outputs": [
    {
     "name": "stdout",
     "output_type": "stream",
     "text": [
      "Requirement already satisfied: openai in c:\\users\\yogsa\\anaconda3\\lib\\site-packages (1.108.2)\n",
      "Requirement already satisfied: python-dotenv in c:\\users\\yogsa\\anaconda3\\lib\\site-packages (0.21.0)\n",
      "Requirement already satisfied: pandas in c:\\users\\yogsa\\anaconda3\\lib\\site-packages (2.3.2)\n",
      "Requirement already satisfied: tqdm in c:\\users\\yogsa\\anaconda3\\lib\\site-packages (4.67.1)\n",
      "Requirement already satisfied: anyio<5,>=3.5.0 in c:\\users\\yogsa\\anaconda3\\lib\\site-packages (from openai) (4.2.0)\n",
      "Requirement already satisfied: distro<2,>=1.7.0 in c:\\users\\yogsa\\anaconda3\\lib\\site-packages (from openai) (1.8.0)\n",
      "Requirement already satisfied: httpx<1,>=0.23.0 in c:\\users\\yogsa\\anaconda3\\lib\\site-packages (from openai) (0.26.0)\n",
      "Requirement already satisfied: jiter<1,>=0.4.0 in c:\\users\\yogsa\\anaconda3\\lib\\site-packages (from openai) (0.11.0)\n",
      "Requirement already satisfied: pydantic<3,>=1.9.0 in c:\\users\\yogsa\\anaconda3\\lib\\site-packages (from openai) (2.11.9)\n",
      "Requirement already satisfied: sniffio in c:\\users\\yogsa\\anaconda3\\lib\\site-packages (from openai) (1.3.0)\n",
      "Requirement already satisfied: typing-extensions<5,>=4.11 in c:\\users\\yogsa\\anaconda3\\lib\\site-packages (from openai) (4.15.0)\n",
      "Requirement already satisfied: idna>=2.8 in c:\\users\\yogsa\\anaconda3\\lib\\site-packages (from anyio<5,>=3.5.0->openai) (3.10)\n",
      "Requirement already satisfied: certifi in c:\\users\\yogsa\\anaconda3\\lib\\site-packages (from httpx<1,>=0.23.0->openai) (2025.8.3)\n",
      "Requirement already satisfied: httpcore==1.* in c:\\users\\yogsa\\anaconda3\\lib\\site-packages (from httpx<1,>=0.23.0->openai) (1.0.2)\n",
      "Requirement already satisfied: h11<0.15,>=0.13 in c:\\users\\yogsa\\anaconda3\\lib\\site-packages (from httpcore==1.*->httpx<1,>=0.23.0->openai) (0.14.0)\n",
      "Requirement already satisfied: annotated-types>=0.6.0 in c:\\users\\yogsa\\anaconda3\\lib\\site-packages (from pydantic<3,>=1.9.0->openai) (0.6.0)\n",
      "Requirement already satisfied: pydantic-core==2.33.2 in c:\\users\\yogsa\\anaconda3\\lib\\site-packages (from pydantic<3,>=1.9.0->openai) (2.33.2)\n",
      "Requirement already satisfied: typing-inspection>=0.4.0 in c:\\users\\yogsa\\anaconda3\\lib\\site-packages (from pydantic<3,>=1.9.0->openai) (0.4.1)\n",
      "Requirement already satisfied: numpy>=1.23.2 in c:\\users\\yogsa\\anaconda3\\lib\\site-packages (from pandas) (1.26.4)\n",
      "Requirement already satisfied: python-dateutil>=2.8.2 in c:\\users\\yogsa\\anaconda3\\lib\\site-packages (from pandas) (2.9.0.post0)\n",
      "Requirement already satisfied: pytz>=2020.1 in c:\\users\\yogsa\\anaconda3\\lib\\site-packages (from pandas) (2025.2)\n",
      "Requirement already satisfied: tzdata>=2022.7 in c:\\users\\yogsa\\anaconda3\\lib\\site-packages (from pandas) (2025.2)\n",
      "Requirement already satisfied: colorama in c:\\users\\yogsa\\anaconda3\\lib\\site-packages (from tqdm) (0.4.6)\n",
      "Requirement already satisfied: six>=1.5 in c:\\users\\yogsa\\anaconda3\\lib\\site-packages (from python-dateutil>=2.8.2->pandas) (1.17.0)\n"
     ]
    }
   ],
   "source": [
    "!pip install openai python-dotenv pandas tqdm"
   ]
  },
  {
   "cell_type": "markdown",
   "id": "fcb58a08-f97e-427b-9328-15c37ff2abd8",
   "metadata": {},
   "source": [
    "Cell 2 — Imports, model, JSON-safe LLM helper"
   ]
  },
  {
   "cell_type": "code",
   "execution_count": 153,
   "id": "d21a610f-c11b-45ff-9980-fde903c3d1aa",
   "metadata": {},
   "outputs": [],
   "source": [
    "import os, json, glob, textwrap\n",
    "import pandas as pd\n",
    "from tqdm import tqdm\n",
    "from dotenv import load_dotenv\n",
    "from openai import OpenAI\n",
    "\n",
    "load_dotenv(\"keys.env\")\n",
    "OPENAI_API_KEY = os.getenv(\"OPENAI_API_KEY\")\n",
    "assert OPENAI_API_KEY, \"Missing OPENAI_API_KEY in keys.env\"\n",
    "\n",
    "client = OpenAI(api_key=OPENAI_API_KEY)\n",
    "\n",
    "MODEL = \"gpt-4o-mini\"   # good quality, low cost\n",
    "TEMPERATURE = 0.2\n",
    "\n",
    "def llm_json(system_prompt: str, user_prompt: str) -> dict:\n",
    "    \"\"\"Call OpenAI with JSON response_format; return parsed dict (or {}).\"\"\"\n",
    "    resp = client.chat.completions.create(\n",
    "        model=MODEL,\n",
    "        temperature=TEMPERATURE,\n",
    "        response_format={\"type\": \"json_object\"},\n",
    "        messages=[\n",
    "            {\"role\": \"system\", \"content\": system_prompt},\n",
    "            {\"role\": \"user\", \"content\": user_prompt}\n",
    "        ]\n",
    "    )\n",
    "    content = resp.choices[0].message.content\n",
    "    try:\n",
    "        return json.loads(content)\n",
    "    except Exception:\n",
    "        return {}\n"
   ]
  },
  {
   "cell_type": "markdown",
   "id": "228768e1-a809-4038-97ab-3138c48365cf",
   "metadata": {},
   "source": [
    "Cell 3 — Load corpus (news + filings) → unified docs list"
   ]
  },
  {
   "cell_type": "code",
   "execution_count": 156,
   "id": "4171a334-e173-4b63-9f3c-6051a2f800d9",
   "metadata": {},
   "outputs": [
    {
     "name": "stdout",
     "output_type": "stream",
     "text": [
      "Prepared 104 documents (news + filings).\n"
     ]
    },
    {
     "data": {
      "text/html": [
       "<div>\n",
       "<style scoped>\n",
       "    .dataframe tbody tr th:only-of-type {\n",
       "        vertical-align: middle;\n",
       "    }\n",
       "\n",
       "    .dataframe tbody tr th {\n",
       "        vertical-align: top;\n",
       "    }\n",
       "\n",
       "    .dataframe thead th {\n",
       "        text-align: right;\n",
       "    }\n",
       "</style>\n",
       "<table border=\"1\" class=\"dataframe\">\n",
       "  <thead>\n",
       "    <tr style=\"text-align: right;\">\n",
       "      <th></th>\n",
       "      <th>id</th>\n",
       "      <th>kind</th>\n",
       "      <th>title</th>\n",
       "      <th>source_name</th>\n",
       "      <th>published_at</th>\n",
       "      <th>url</th>\n",
       "      <th>text</th>\n",
       "      <th>form_type</th>\n",
       "      <th>filing_date</th>\n",
       "      <th>filing_page</th>\n",
       "    </tr>\n",
       "  </thead>\n",
       "  <tbody>\n",
       "    <tr>\n",
       "      <th>0</th>\n",
       "      <td>news_000</td>\n",
       "      <td>news</td>\n",
       "      <td>Gold Falls From Record as Traders Take Profit ...</td>\n",
       "      <td>Biztoc.com</td>\n",
       "      <td>2025-10-08T23:53:40Z</td>\n",
       "      <td>https://biztoc.com/x/356c0d6d9f588e0f</td>\n",
       "      <td>Gold Falls From Record as Traders Take Profit ...</td>\n",
       "      <td>NaN</td>\n",
       "      <td>NaN</td>\n",
       "      <td>NaN</td>\n",
       "    </tr>\n",
       "    <tr>\n",
       "      <th>1</th>\n",
       "      <td>news_001</td>\n",
       "      <td>news</td>\n",
       "      <td>Asia-Pacific markets set to open higher, track...</td>\n",
       "      <td>CNBC</td>\n",
       "      <td>2025-10-08T23:52:05Z</td>\n",
       "      <td>https://www.cnbc.com/2025/10/09/asia-pacific-m...</td>\n",
       "      <td>Asia-Pacific markets set to open higher, track...</td>\n",
       "      <td>NaN</td>\n",
       "      <td>NaN</td>\n",
       "      <td>NaN</td>\n",
       "    </tr>\n",
       "    <tr>\n",
       "      <th>2</th>\n",
       "      <td>news_002</td>\n",
       "      <td>news</td>\n",
       "      <td>Jensen Huang said his family wouldn't have bee...</td>\n",
       "      <td>Biztoc.com</td>\n",
       "      <td>2025-10-08T23:42:21Z</td>\n",
       "      <td>https://biztoc.com/x/49587b39b42d2a64</td>\n",
       "      <td>Jensen Huang said his family wouldn't have bee...</td>\n",
       "      <td>NaN</td>\n",
       "      <td>NaN</td>\n",
       "      <td>NaN</td>\n",
       "    </tr>\n",
       "    <tr>\n",
       "      <th>3</th>\n",
       "      <td>news_003</td>\n",
       "      <td>news</td>\n",
       "      <td>Jensen Huang said his family wouldn't have bee...</td>\n",
       "      <td>Business Insider</td>\n",
       "      <td>2025-10-08T23:29:08Z</td>\n",
       "      <td>https://www.businessinsider.com/jensen-huang-f...</td>\n",
       "      <td>Jensen Huang said his family wouldn't have bee...</td>\n",
       "      <td>NaN</td>\n",
       "      <td>NaN</td>\n",
       "      <td>NaN</td>\n",
       "    </tr>\n",
       "    <tr>\n",
       "      <th>4</th>\n",
       "      <td>news_004</td>\n",
       "      <td>news</td>\n",
       "      <td>SoftBank-owned Graphcore to invest $1.3 billio...</td>\n",
       "      <td>Bloomberg</td>\n",
       "      <td>2025-10-08T23:20:21Z</td>\n",
       "      <td>https://www.bloomberg.com/news/articles/2025-1...</td>\n",
       "      <td>SoftBank-owned Graphcore to invest $1.3 billio...</td>\n",
       "      <td>NaN</td>\n",
       "      <td>NaN</td>\n",
       "      <td>NaN</td>\n",
       "    </tr>\n",
       "  </tbody>\n",
       "</table>\n",
       "</div>"
      ],
      "text/plain": [
       "         id  kind                                              title  \\\n",
       "0  news_000  news  Gold Falls From Record as Traders Take Profit ...   \n",
       "1  news_001  news  Asia-Pacific markets set to open higher, track...   \n",
       "2  news_002  news  Jensen Huang said his family wouldn't have bee...   \n",
       "3  news_003  news  Jensen Huang said his family wouldn't have bee...   \n",
       "4  news_004  news  SoftBank-owned Graphcore to invest $1.3 billio...   \n",
       "\n",
       "        source_name          published_at  \\\n",
       "0        Biztoc.com  2025-10-08T23:53:40Z   \n",
       "1              CNBC  2025-10-08T23:52:05Z   \n",
       "2        Biztoc.com  2025-10-08T23:42:21Z   \n",
       "3  Business Insider  2025-10-08T23:29:08Z   \n",
       "4         Bloomberg  2025-10-08T23:20:21Z   \n",
       "\n",
       "                                                 url  \\\n",
       "0              https://biztoc.com/x/356c0d6d9f588e0f   \n",
       "1  https://www.cnbc.com/2025/10/09/asia-pacific-m...   \n",
       "2              https://biztoc.com/x/49587b39b42d2a64   \n",
       "3  https://www.businessinsider.com/jensen-huang-f...   \n",
       "4  https://www.bloomberg.com/news/articles/2025-1...   \n",
       "\n",
       "                                                text form_type filing_date  \\\n",
       "0  Gold Falls From Record as Traders Take Profit ...       NaN         NaN   \n",
       "1  Asia-Pacific markets set to open higher, track...       NaN         NaN   \n",
       "2  Jensen Huang said his family wouldn't have bee...       NaN         NaN   \n",
       "3  Jensen Huang said his family wouldn't have bee...       NaN         NaN   \n",
       "4  SoftBank-owned Graphcore to invest $1.3 billio...       NaN         NaN   \n",
       "\n",
       "  filing_page  \n",
       "0         NaN  \n",
       "1         NaN  \n",
       "2         NaN  \n",
       "3         NaN  \n",
       "4         NaN  "
      ]
     },
     "execution_count": 156,
     "metadata": {},
     "output_type": "execute_result"
    }
   ],
   "source": [
    "# Inputs from Milestone 2\n",
    "NEWS_PATH = \"data/news/NVDA_news_last7.json\"\n",
    "FILINGS_INDEX = \"data/filings/filings_index.json\"\n",
    "\n",
    "# Load news\n",
    "news = []\n",
    "if os.path.exists(NEWS_PATH):\n",
    "    with open(NEWS_PATH, \"r\", encoding=\"utf-8\") as f:\n",
    "        news = json.load(f)\n",
    "\n",
    "# Load filings clean text paths\n",
    "filings = []\n",
    "if os.path.exists(FILINGS_INDEX):\n",
    "    with open(FILINGS_INDEX, \"r\", encoding=\"utf-8\") as f:\n",
    "        filings = json.load(f)\n",
    "\n",
    "docs = []\n",
    "\n",
    "# News → docs\n",
    "for i, it in enumerate(news):\n",
    "    txt = (it.get(\"title\") or \"\") + \"\\n\\n\" + (it.get(\"description\") or \"\") + \"\\n\\n\" + (it.get(\"content\") or \"\")\n",
    "    txt = txt.strip()\n",
    "    if not txt:\n",
    "        continue\n",
    "    docs.append({\n",
    "        \"id\": f\"news_{i:03d}\",\n",
    "        \"kind\": \"news\",\n",
    "        \"title\": it.get(\"title\"),\n",
    "        \"source_name\": it.get(\"source_name\"),\n",
    "        \"published_at\": it.get(\"published_at\"),\n",
    "        \"url\": it.get(\"url\"),\n",
    "        \"text\": txt[:8000]  # keep it compact\n",
    "    })\n",
    "\n",
    "# Filings → docs (read clean text; cap length)\n",
    "for j, row in enumerate(filings[:5]):  # limit for speed/cost\n",
    "    clean_path = row.get(\"clean_txt_path\")\n",
    "    if not clean_path or not os.path.exists(clean_path):\n",
    "        continue\n",
    "    with open(clean_path, \"r\", encoding=\"utf-8\", errors=\"ignore\") as f:\n",
    "        txt = f.read()\n",
    "    docs.append({\n",
    "        \"id\": f\"filing_{j:03d}\",\n",
    "        \"kind\": \"filing\",\n",
    "        \"title\": row.get(\"title\"),\n",
    "        \"form_type\": row.get(\"form_type\"),\n",
    "        \"filing_date\": row.get(\"filing_date\"),\n",
    "        \"filing_page\": row.get(\"filing_page\"),\n",
    "        \"text\": txt[:12000]  # filings are long; clip\n",
    "    })\n",
    "\n",
    "print(f\"Prepared {len(docs)} documents (news + filings).\")\n",
    "pd.DataFrame(docs)[:5]\n"
   ]
  },
  {
   "cell_type": "markdown",
   "id": "4b5aea5b-7cc8-492c-9ef6-df57737e7166",
   "metadata": {},
   "source": [
    "Cell 4 — Classifier (labels + function)"
   ]
  },
  {
   "cell_type": "code",
   "execution_count": 158,
   "id": "a2a43a93-3c66-496e-ab43-5159b8433580",
   "metadata": {},
   "outputs": [],
   "source": [
    "LABELS = [\"EARNINGS\",\"GUIDANCE\",\"REGULATORY\",\"LEGAL\",\"PRODUCT\",\"SUPPLY_CHAIN\",\"COMPETITION\",\"MACRO\",\"OTHER\"]\n",
    "\n",
    "CLASSIFIER_SYS = \"\"\"You classify finance documents for an investment research agent.\n",
    "Return strict JSON with keys: class (one of: EARNINGS, GUIDANCE, REGULATORY, LEGAL, PRODUCT, SUPPLY_CHAIN, COMPETITION, MACRO, OTHER),\n",
    "rationale (<=30 words), and confidence (0..1).\n",
    "If unsure, use OTHER with a brief rationale. Be concise and factual.\n",
    "\"\"\"\n",
    "\n",
    "def classify_doc(doc: dict) -> dict:\n",
    "    snippet = doc[\"text\"][:4000]\n",
    "    user = f\"\"\"\n",
    "Document metadata:\n",
    "- id: {doc.get('id')}\n",
    "- kind: {doc.get('kind')}\n",
    "- title: {doc.get('title')}\n",
    "- form_type: {doc.get('form_type')}\n",
    "- date: {doc.get('published_at') or doc.get('filing_date')}\n",
    "\n",
    "Classify the document into one label from {LABELS}.\n",
    "Text (truncated):\n",
    "{snippet}\n",
    "\"\"\"\n",
    "    out = llm_json(CLASSIFIER_SYS, user)\n",
    "    return {\n",
    "        \"id\": doc[\"id\"],\n",
    "        \"label\": out.get(\"class\",\"OTHER\"),\n",
    "        \"rationale\": out.get(\"rationale\",\"\"),\n",
    "        \"confidence\": out.get(\"confidence\", 0.0),\n",
    "        \"meta\": {\n",
    "            \"kind\": doc.get(\"kind\"),\n",
    "            \"title\": doc.get(\"title\"),\n",
    "            \"date\": doc.get(\"published_at\") or doc.get(\"filing_date\"),\n",
    "            \"url\": doc.get(\"url\") or doc.get(\"filing_page\"),\n",
    "            \"source\": doc.get(\"source_name\") or doc.get(\"form_type\")\n",
    "        }\n",
    "    }\n"
   ]
  },
  {
   "cell_type": "markdown",
   "id": "9cc1b16a-5e37-41f4-93ce-c3e1108cd472",
   "metadata": {},
   "source": [
    "Cell 5 — Run classification (batched), save classified.json"
   ]
  },
  {
   "cell_type": "code",
   "execution_count": 161,
   "id": "4c0f6104-a8b8-4d15-a235-32418adb087b",
   "metadata": {},
   "outputs": [
    {
     "name": "stderr",
     "output_type": "stream",
     "text": [
      "Classifying: 100%|███████████████████████████████████████████████████████████████████| 104/104 [02:48<00:00,  1.62s/it]"
     ]
    },
    {
     "name": "stdout",
     "output_type": "stream",
     "text": [
      "Saved 104 classifications → data/structured/classified.json\n"
     ]
    },
    {
     "name": "stderr",
     "output_type": "stream",
     "text": [
      "\n"
     ]
    },
    {
     "data": {
      "text/plain": [
       "label\n",
       "MACRO           36\n",
       "OTHER           25\n",
       "PRODUCT         14\n",
       "COMPETITION     11\n",
       "EARNINGS         7\n",
       "LEGAL            5\n",
       "REGULATORY       4\n",
       "GUIDANCE         1\n",
       "SUPPLY_CHAIN     1\n",
       "dtype: int64"
      ]
     },
     "execution_count": 161,
     "metadata": {},
     "output_type": "execute_result"
    }
   ],
   "source": [
    "classified = []\n",
    "for d in tqdm(docs, desc=\"Classifying\"):\n",
    "    try:\n",
    "        classified.append(classify_doc(d))\n",
    "    except Exception as e:\n",
    "        classified.append({\"id\": d[\"id\"], \"label\": \"OTHER\", \"rationale\": f\"error: {e}\", \"confidence\": 0.0, \"meta\": {\"kind\": d.get(\"kind\")}})\n",
    "\n",
    "os.makedirs(\"data/structured\", exist_ok=True)\n",
    "CLASSIFIED_PATH = \"data/structured/classified.json\"\n",
    "with open(CLASSIFIED_PATH, \"w\", encoding=\"utf-8\") as f:\n",
    "    json.dump(classified, f, indent=2, ensure_ascii=False)\n",
    "\n",
    "print(f\"Saved {len(classified)} classifications → {CLASSIFIED_PATH}\")\n",
    "pd.DataFrame(classified).groupby(\"label\").size().sort_values(ascending=False)\n"
   ]
  },
  {
   "cell_type": "markdown",
   "id": "5acd3438-1f59-4076-baa1-4e41becaa4c7",
   "metadata": {},
   "source": [
    "Cell 6 — Extractor (structured facts JSON schema)"
   ]
  },
  {
   "cell_type": "code",
   "execution_count": 164,
   "id": "aa51e5fa-fb91-4459-9f75-4c46e071e4cf",
   "metadata": {},
   "outputs": [],
   "source": [
    "EXTRACTOR_SYS = \"\"\"Extract ONLY supported facts into JSON.\n",
    "Schema:\n",
    "{\n",
    " \"source_id\": \"string\",\n",
    " \"date\": \"YYYY-MM-DD or null\",\n",
    " \"type\": \"EARNINGS|GUIDANCE|REGULATORY|LEGAL|PRODUCT|SUPPLY_CHAIN|COMPETITION|MACRO|OTHER\",\n",
    " \"entities\": [\"...\"],\n",
    " \"numerics\": [{\"metric\":\"string\",\"value\":number,\"unit\":\"string\"}],\n",
    " \"claims\": [\"string\"], \n",
    " \"confidence\": 0..1,\n",
    " \"impact\": \"positive|negative|uncertain\",\n",
    " \"horizon\": \"near|mid|long\"\n",
    "}\n",
    "Rules:\n",
    "- No speculation. If unsure, set impact=\"uncertain\" and confidence<=0.5.\n",
    "- Keep numerics only if explicitly stated; attach units.\n",
    "- Be concise.\n",
    "\"\"\"\n",
    "\n",
    "def extract_facts(doc: dict, label_hint: str) -> dict:\n",
    "    snippet = doc[\"text\"][:5000]\n",
    "    date_val = (doc.get(\"published_at\") or doc.get(\"filing_date\") or \"\")[:10]\n",
    "    user = f\"\"\"\n",
    "Document metadata:\n",
    "- id: {doc.get('id')}\n",
    "- kind: {doc.get('kind')}\n",
    "- title: {doc.get('title')}\n",
    "- form_type: {doc.get('form_type')}\n",
    "- date: {date_val}\n",
    "- label_hint: {label_hint}\n",
    "\n",
    "Text (truncated):\n",
    "{snippet}\n",
    "\"\"\"\n",
    "    out = llm_json(EXTRACTOR_SYS, user) or {}\n",
    "    # Fill required fields safely\n",
    "    return {\n",
    "        \"source_id\": doc.get(\"id\"),\n",
    "        \"date\": date_val or None,\n",
    "        \"type\": out.get(\"type\", label_hint if label_hint in LABELS else \"OTHER\"),\n",
    "        \"entities\": out.get(\"entities\", []),\n",
    "        \"numerics\": out.get(\"numerics\", []),\n",
    "        \"claims\": out.get(\"claims\", []),\n",
    "        \"confidence\": out.get(\"confidence\", 0.0),\n",
    "        \"impact\": out.get(\"impact\", \"uncertain\"),\n",
    "        \"horizon\": out.get(\"horizon\", \"near\")\n",
    "    }\n"
   ]
  },
  {
   "cell_type": "markdown",
   "id": "978d6b3d-1c00-46b3-834b-ac4946e08a54",
   "metadata": {},
   "source": [
    "Cell 7 — Run extraction on top K docs; save extracted.json"
   ]
  },
  {
   "cell_type": "code",
   "execution_count": 167,
   "id": "f7842d73-2f12-4b45-971e-272ecf6be57d",
   "metadata": {},
   "outputs": [
    {
     "name": "stderr",
     "output_type": "stream",
     "text": [
      "Extracting: 100%|██████████████████████████████████████████████████████████████████████| 12/12 [00:46<00:00,  3.87s/it]"
     ]
    },
    {
     "name": "stdout",
     "output_type": "stream",
     "text": [
      "Saved 12 extractions → data/structured/extracted.json\n"
     ]
    },
    {
     "name": "stderr",
     "output_type": "stream",
     "text": [
      "\n"
     ]
    },
    {
     "data": {
      "text/html": [
       "<div>\n",
       "<style scoped>\n",
       "    .dataframe tbody tr th:only-of-type {\n",
       "        vertical-align: middle;\n",
       "    }\n",
       "\n",
       "    .dataframe tbody tr th {\n",
       "        vertical-align: top;\n",
       "    }\n",
       "\n",
       "    .dataframe thead th {\n",
       "        text-align: right;\n",
       "    }\n",
       "</style>\n",
       "<table border=\"1\" class=\"dataframe\">\n",
       "  <thead>\n",
       "    <tr style=\"text-align: right;\">\n",
       "      <th></th>\n",
       "      <th>source_id</th>\n",
       "      <th>date</th>\n",
       "      <th>type</th>\n",
       "      <th>entities</th>\n",
       "      <th>numerics</th>\n",
       "      <th>claims</th>\n",
       "      <th>confidence</th>\n",
       "      <th>impact</th>\n",
       "      <th>horizon</th>\n",
       "    </tr>\n",
       "  </thead>\n",
       "  <tbody>\n",
       "    <tr>\n",
       "      <th>0</th>\n",
       "      <td>news_000</td>\n",
       "      <td>2025-10-08</td>\n",
       "      <td>MACRO</td>\n",
       "      <td>[gold]</td>\n",
       "      <td>[{'metric': 'price', 'value': 4000, 'unit': 'U...</td>\n",
       "      <td>[Gold is hitting record highs above $4,000.]</td>\n",
       "      <td>0.7</td>\n",
       "      <td>negative</td>\n",
       "      <td>near</td>\n",
       "    </tr>\n",
       "    <tr>\n",
       "      <th>1</th>\n",
       "      <td>news_001</td>\n",
       "      <td>2025-10-08</td>\n",
       "      <td>MACRO</td>\n",
       "      <td>[Asia-Pacific markets, Wall Street, S&amp;P 500, N...</td>\n",
       "      <td>[]</td>\n",
       "      <td>[Asia-Pacific markets set to open higher, S&amp;P ...</td>\n",
       "      <td>0.7</td>\n",
       "      <td>positive</td>\n",
       "      <td>near</td>\n",
       "    </tr>\n",
       "    <tr>\n",
       "      <th>2</th>\n",
       "      <td>news_002</td>\n",
       "      <td>2025-10-08</td>\n",
       "      <td>MACRO</td>\n",
       "      <td>[Jensen Huang, Nvidia, H-1B visa]</td>\n",
       "      <td>[{'metric': 'H-1B visa fee', 'value': 100000, ...</td>\n",
       "      <td>[Jensen Huang said his family wouldn't have be...</td>\n",
       "      <td>0.7</td>\n",
       "      <td>negative</td>\n",
       "      <td>long</td>\n",
       "    </tr>\n",
       "    <tr>\n",
       "      <th>3</th>\n",
       "      <td>news_003</td>\n",
       "      <td>2025-10-08</td>\n",
       "      <td>MACRO</td>\n",
       "      <td>[Jensen Huang, Nvidia, Trump]</td>\n",
       "      <td>[{'metric': 'H-1B visa fee', 'value': 100000, ...</td>\n",
       "      <td>[Jensen Huang's family would not have been abl...</td>\n",
       "      <td>0.7</td>\n",
       "      <td>negative</td>\n",
       "      <td>long</td>\n",
       "    </tr>\n",
       "    <tr>\n",
       "      <th>4</th>\n",
       "      <td>news_004</td>\n",
       "      <td>2025-10-08</td>\n",
       "      <td>OTHER</td>\n",
       "      <td>[Graphcore, SoftBank, India, Bengaluru]</td>\n",
       "      <td>[{'metric': 'investment', 'value': 1.3, 'unit'...</td>\n",
       "      <td>[Graphcore to invest $1.3 billion in India, Gr...</td>\n",
       "      <td>1.0</td>\n",
       "      <td>positive</td>\n",
       "      <td>mid</td>\n",
       "    </tr>\n",
       "  </tbody>\n",
       "</table>\n",
       "</div>"
      ],
      "text/plain": [
       "  source_id        date   type  \\\n",
       "0  news_000  2025-10-08  MACRO   \n",
       "1  news_001  2025-10-08  MACRO   \n",
       "2  news_002  2025-10-08  MACRO   \n",
       "3  news_003  2025-10-08  MACRO   \n",
       "4  news_004  2025-10-08  OTHER   \n",
       "\n",
       "                                            entities  \\\n",
       "0                                             [gold]   \n",
       "1  [Asia-Pacific markets, Wall Street, S&P 500, N...   \n",
       "2                  [Jensen Huang, Nvidia, H-1B visa]   \n",
       "3                      [Jensen Huang, Nvidia, Trump]   \n",
       "4            [Graphcore, SoftBank, India, Bengaluru]   \n",
       "\n",
       "                                            numerics  \\\n",
       "0  [{'metric': 'price', 'value': 4000, 'unit': 'U...   \n",
       "1                                                 []   \n",
       "2  [{'metric': 'H-1B visa fee', 'value': 100000, ...   \n",
       "3  [{'metric': 'H-1B visa fee', 'value': 100000, ...   \n",
       "4  [{'metric': 'investment', 'value': 1.3, 'unit'...   \n",
       "\n",
       "                                              claims  confidence    impact  \\\n",
       "0       [Gold is hitting record highs above $4,000.]         0.7  negative   \n",
       "1  [Asia-Pacific markets set to open higher, S&P ...         0.7  positive   \n",
       "2  [Jensen Huang said his family wouldn't have be...         0.7  negative   \n",
       "3  [Jensen Huang's family would not have been abl...         0.7  negative   \n",
       "4  [Graphcore to invest $1.3 billion in India, Gr...         1.0  positive   \n",
       "\n",
       "  horizon  \n",
       "0    near  \n",
       "1    near  \n",
       "2    long  \n",
       "3    long  \n",
       "4     mid  "
      ]
     },
     "execution_count": 167,
     "metadata": {},
     "output_type": "execute_result"
    }
   ],
   "source": [
    "# Choose a small top-K for cost control (you can increase later)\n",
    "TOP_K = min(12, len(docs))\n",
    "\n",
    "# Map doc id -> label from classifier\n",
    "label_by_id = {c[\"id\"]: c[\"label\"] for c in classified}\n",
    "\n",
    "extracted = []\n",
    "for d in tqdm(docs[:TOP_K], desc=\"Extracting\"):\n",
    "    try:\n",
    "        label_hint = label_by_id.get(d[\"id\"], \"OTHER\")\n",
    "        extracted.append(extract_facts(d, label_hint))\n",
    "    except Exception as e:\n",
    "        extracted.append({\n",
    "            \"source_id\": d[\"id\"], \"date\": None, \"type\": \"OTHER\",\n",
    "            \"entities\": [], \"numerics\": [], \"claims\": [f\"error: {e}\"],\n",
    "            \"confidence\": 0.0, \"impact\": \"uncertain\", \"horizon\": \"near\"\n",
    "        })\n",
    "\n",
    "EXTRACTED_PATH = \"data/structured/extracted.json\"\n",
    "with open(EXTRACTED_PATH, \"w\", encoding=\"utf-8\") as f:\n",
    "    json.dump(extracted, f, indent=2, ensure_ascii=False)\n",
    "\n",
    "print(f\"Saved {len(extracted)} extractions → {EXTRACTED_PATH}\")\n",
    "pd.DataFrame(extracted).head(5)\n"
   ]
  },
  {
   "cell_type": "markdown",
   "id": "9b759cce-9238-4278-a782-4cc200cd9913",
   "metadata": {},
   "source": [
    "(Optional) Cell 8 — Quick sanity stats"
   ]
  },
  {
   "cell_type": "code",
   "execution_count": 170,
   "id": "59962f6f-1963-44e4-a0b6-cc80d63e37a2",
   "metadata": {},
   "outputs": [
    {
     "name": "stdout",
     "output_type": "stream",
     "text": [
      "Class counts:\n",
      " label\n",
      "MACRO           36\n",
      "OTHER           25\n",
      "PRODUCT         14\n",
      "COMPETITION     11\n",
      "EARNINGS         7\n",
      "LEGAL            5\n",
      "REGULATORY       4\n",
      "GUIDANCE         1\n",
      "SUPPLY_CHAIN     1\n",
      "Name: count, dtype: int64\n",
      "\n",
      "Impact counts:\n",
      " impact\n",
      "positive     6\n",
      "negative     4\n",
      "uncertain    2\n",
      "Name: count, dtype: int64\n"
     ]
    }
   ],
   "source": [
    "dfc = pd.DataFrame(classified)\n",
    "dfe = pd.DataFrame(extracted)\n",
    "print(\"Class counts:\\n\", dfc[\"label\"].value_counts())\n",
    "print(\"\\nImpact counts:\\n\", dfe[\"impact\"].value_counts())\n"
   ]
  },
  {
   "cell_type": "markdown",
   "id": "786feb09-6d9c-438e-9ab9-dfb189f7ce3b",
   "metadata": {},
   "source": [
    "### MILESTONE 4 "
   ]
  },
  {
   "cell_type": "markdown",
   "id": "075cf72b-9700-4136-9011-6cd4237447a3",
   "metadata": {},
   "source": [
    "Milestone 4 is Summarize → Evaluate → Optimize."
   ]
  },
  {
   "cell_type": "markdown",
   "id": "f85511a6-bcb7-4f53-a984-2116b00663c0",
   "metadata": {},
   "source": [
    "Cell 1 — Imports & paths"
   ]
  },
  {
   "cell_type": "code",
   "execution_count": 175,
   "id": "93c49270-7305-42f6-93e1-21dfca90a430",
   "metadata": {},
   "outputs": [
    {
     "name": "stdout",
     "output_type": "stream",
     "text": [
      "Reloaded key prefix: sk-proj-5M\n"
     ]
    }
   ],
   "source": [
    "# Remove any in-memory keys from environment\n",
    "import os\n",
    "if \"OPENAI_API_KEY\" in os.environ:\n",
    "    del os.environ[\"OPENAI_API_KEY\"]\n",
    "\n",
    "# Reload from your file\n",
    "from dotenv import load_dotenv\n",
    "load_dotenv(\"keys.env\", override=True)\n",
    "\n",
    "print(\"Reloaded key prefix:\", os.getenv(\"OPENAI_API_KEY\")[:10])\n"
   ]
  },
  {
   "cell_type": "code",
   "execution_count": 177,
   "id": "38ab2acf-4291-473c-80cc-e559a8e5893f",
   "metadata": {},
   "outputs": [
    {
     "name": "stdout",
     "output_type": "stream",
     "text": [
      "Loaded key prefix: sk-proj-5M\n"
     ]
    }
   ],
   "source": [
    "from dotenv import load_dotenv\n",
    "import os\n",
    "\n",
    "load_dotenv(\"keys.env\")\n",
    "\n",
    "api_key = os.getenv(\"OPENAI_API_KEY\")\n",
    "print(\"Loaded key prefix:\", api_key[:10] if api_key else None)\n"
   ]
  },
  {
   "cell_type": "code",
   "execution_count": 179,
   "id": "3efb7835-b41a-4e75-9410-8a04b5a7067b",
   "metadata": {},
   "outputs": [
    {
     "name": "stdout",
     "output_type": "stream",
     "text": [
      "Hello! It looks like you're testing the quota. How can I assist you today?\n"
     ]
    }
   ],
   "source": [
    "from openai import OpenAI\n",
    "client = OpenAI(api_key=os.getenv(\"OPENAI_API_KEY\"))\n",
    "\n",
    "r = client.chat.completions.create(\n",
    "    model=\"gpt-4o-mini\",\n",
    "    messages=[{\"role\": \"user\", \"content\": \"Hello, just testing quota\"}]\n",
    ")\n",
    "print(r.choices[0].message.content)\n"
   ]
  },
  {
   "cell_type": "code",
   "execution_count": null,
   "id": "4dce3510-3993-4234-a47e-f570b185c616",
   "metadata": {},
   "outputs": [],
   "source": []
  },
  {
   "cell_type": "code",
   "execution_count": null,
   "id": "235effdf-3e9c-4f69-b90c-f5ace8274ab0",
   "metadata": {},
   "outputs": [],
   "source": []
  },
  {
   "cell_type": "code",
   "execution_count": null,
   "id": "4b41d155-a397-40c6-83ab-ee5ac2bb14ae",
   "metadata": {},
   "outputs": [],
   "source": []
  },
  {
   "cell_type": "code",
   "execution_count": null,
   "id": "c2e459c7-4fca-450d-9385-d16faaf6543c",
   "metadata": {},
   "outputs": [],
   "source": []
  },
  {
   "cell_type": "code",
   "execution_count": 181,
   "id": "4e5d5fcd-a520-428c-903f-1a60098b82fa",
   "metadata": {},
   "outputs": [],
   "source": [
    "import os, json, textwrap, datetime\n",
    "import pandas as pd\n",
    "from dotenv import load_dotenv\n",
    "from openai import OpenAI\n",
    "\n",
    "# env + client\n",
    "load_dotenv(\"keys.env\")\n",
    "client = OpenAI(api_key=os.getenv(\"OPENAI_API_KEY\"))\n",
    "\n",
    "# inputs from Milestone 3\n",
    "CLASSIFIED_PATH = \"data/structured/classified.json\"\n",
    "EXTRACTED_PATH  = \"data/structured/extracted.json\"\n",
    "\n",
    "# outputs\n",
    "os.makedirs(\"data/structured\", exist_ok=True)\n",
    "os.makedirs(\"runs\", exist_ok=True)\n",
    "\n",
    "RUN_TAG = datetime.datetime.utcnow().strftime(\"NVDA_%Y-%m-%d\")\n",
    "RUN_DIR = f\"runs/{RUN_TAG}\"\n",
    "os.makedirs(RUN_DIR, exist_ok=True)\n",
    "\n",
    "MODEL = \"gpt-4o-mini\"\n"
   ]
  },
  {
   "cell_type": "code",
   "execution_count": 183,
   "id": "579d692c-e8ec-42a7-986e-06a697c880d7",
   "metadata": {},
   "outputs": [
    {
     "name": "stdout",
     "output_type": "stream",
     "text": [
      "SyncPage[Model](data=[Model(id='gpt-4-0613', created=1686588896, object='model', owned_by='openai'), Model(id='gpt-4', created=1687882411, object='model', owned_by='openai'), Model(id='gpt-3.5-turbo', created=1677610602, object='model', owned_by='openai'), Model(id='sora-2-pro', created=1759708663, object='model', owned_by='system'), Model(id='gpt-audio-mini-2025-10-06', created=1759512137, object='model', owned_by='system'), Model(id='gpt-realtime-mini', created=1759517133, object='model', owned_by='system'), Model(id='gpt-realtime-mini-2025-10-06', created=1759517175, object='model', owned_by='system'), Model(id='sora-2', created=1759708615, object='model', owned_by='system'), Model(id='davinci-002', created=1692634301, object='model', owned_by='system'), Model(id='babbage-002', created=1692634615, object='model', owned_by='system'), Model(id='gpt-3.5-turbo-instruct', created=1692901427, object='model', owned_by='system'), Model(id='gpt-3.5-turbo-instruct-0914', created=1694122472, object='model', owned_by='system'), Model(id='dall-e-3', created=1698785189, object='model', owned_by='system'), Model(id='dall-e-2', created=1698798177, object='model', owned_by='system'), Model(id='gpt-4-1106-preview', created=1698957206, object='model', owned_by='system'), Model(id='gpt-3.5-turbo-1106', created=1698959748, object='model', owned_by='system'), Model(id='tts-1-hd', created=1699046015, object='model', owned_by='system'), Model(id='tts-1-1106', created=1699053241, object='model', owned_by='system'), Model(id='tts-1-hd-1106', created=1699053533, object='model', owned_by='system'), Model(id='text-embedding-3-small', created=1705948997, object='model', owned_by='system'), Model(id='text-embedding-3-large', created=1705953180, object='model', owned_by='system'), Model(id='gpt-4-0125-preview', created=1706037612, object='model', owned_by='system'), Model(id='gpt-4-turbo-preview', created=1706037777, object='model', owned_by='system'), Model(id='gpt-3.5-turbo-0125', created=1706048358, object='model', owned_by='system'), Model(id='gpt-4-turbo', created=1712361441, object='model', owned_by='system'), Model(id='gpt-4-turbo-2024-04-09', created=1712601677, object='model', owned_by='system'), Model(id='gpt-4o', created=1715367049, object='model', owned_by='system'), Model(id='gpt-4o-2024-05-13', created=1715368132, object='model', owned_by='system'), Model(id='gpt-4o-mini-2024-07-18', created=1721172717, object='model', owned_by='system'), Model(id='gpt-4o-mini', created=1721172741, object='model', owned_by='system'), Model(id='gpt-4o-2024-08-06', created=1722814719, object='model', owned_by='system'), Model(id='chatgpt-4o-latest', created=1723515131, object='model', owned_by='system'), Model(id='o1-mini-2024-09-12', created=1725648979, object='model', owned_by='system'), Model(id='o1-mini', created=1725649008, object='model', owned_by='system'), Model(id='gpt-4o-realtime-preview-2024-10-01', created=1727131766, object='model', owned_by='system'), Model(id='gpt-4o-audio-preview-2024-10-01', created=1727389042, object='model', owned_by='system'), Model(id='gpt-4o-audio-preview', created=1727460443, object='model', owned_by='system'), Model(id='gpt-4o-realtime-preview', created=1727659998, object='model', owned_by='system'), Model(id='omni-moderation-latest', created=1731689265, object='model', owned_by='system'), Model(id='omni-moderation-2024-09-26', created=1732734466, object='model', owned_by='system'), Model(id='gpt-4o-realtime-preview-2024-12-17', created=1733945430, object='model', owned_by='system'), Model(id='gpt-4o-audio-preview-2024-12-17', created=1734034239, object='model', owned_by='system'), Model(id='gpt-4o-mini-realtime-preview-2024-12-17', created=1734112601, object='model', owned_by='system'), Model(id='gpt-4o-mini-audio-preview-2024-12-17', created=1734115920, object='model', owned_by='system'), Model(id='o1-2024-12-17', created=1734326976, object='model', owned_by='system'), Model(id='o1', created=1734375816, object='model', owned_by='system'), Model(id='gpt-4o-mini-realtime-preview', created=1734387380, object='model', owned_by='system'), Model(id='gpt-4o-mini-audio-preview', created=1734387424, object='model', owned_by='system'), Model(id='o3-mini', created=1737146383, object='model', owned_by='system'), Model(id='o3-mini-2025-01-31', created=1738010200, object='model', owned_by='system'), Model(id='gpt-4o-2024-11-20', created=1739331543, object='model', owned_by='system'), Model(id='gpt-4o-search-preview-2025-03-11', created=1741388170, object='model', owned_by='system'), Model(id='gpt-4o-search-preview', created=1741388720, object='model', owned_by='system'), Model(id='gpt-4o-mini-search-preview-2025-03-11', created=1741390858, object='model', owned_by='system'), Model(id='gpt-4o-mini-search-preview', created=1741391161, object='model', owned_by='system'), Model(id='gpt-4o-transcribe', created=1742068463, object='model', owned_by='system'), Model(id='gpt-4o-mini-transcribe', created=1742068596, object='model', owned_by='system'), Model(id='o1-pro-2025-03-19', created=1742251504, object='model', owned_by='system'), Model(id='o1-pro', created=1742251791, object='model', owned_by='system'), Model(id='gpt-4o-mini-tts', created=1742403959, object='model', owned_by='system'), Model(id='o3-2025-04-16', created=1744133301, object='model', owned_by='system'), Model(id='o4-mini-2025-04-16', created=1744133506, object='model', owned_by='system'), Model(id='o3', created=1744225308, object='model', owned_by='system'), Model(id='o4-mini', created=1744225351, object='model', owned_by='system'), Model(id='gpt-4.1-2025-04-14', created=1744315746, object='model', owned_by='system'), Model(id='gpt-4.1', created=1744316542, object='model', owned_by='system'), Model(id='gpt-4.1-mini-2025-04-14', created=1744317547, object='model', owned_by='system'), Model(id='gpt-4.1-mini', created=1744318173, object='model', owned_by='system'), Model(id='gpt-4.1-nano-2025-04-14', created=1744321025, object='model', owned_by='system'), Model(id='gpt-4.1-nano', created=1744321707, object='model', owned_by='system'), Model(id='gpt-image-1', created=1745517030, object='model', owned_by='system'), Model(id='gpt-4o-realtime-preview-2025-06-03', created=1748907838, object='model', owned_by='system'), Model(id='gpt-4o-audio-preview-2025-06-03', created=1748908498, object='model', owned_by='system'), Model(id='gpt-5-chat-latest', created=1754073306, object='model', owned_by='system'), Model(id='gpt-5-2025-08-07', created=1754075360, object='model', owned_by='system'), Model(id='gpt-5', created=1754425777, object='model', owned_by='system'), Model(id='gpt-5-mini-2025-08-07', created=1754425867, object='model', owned_by='system'), Model(id='gpt-5-mini', created=1754425928, object='model', owned_by='system'), Model(id='gpt-5-nano-2025-08-07', created=1754426303, object='model', owned_by='system'), Model(id='gpt-5-nano', created=1754426384, object='model', owned_by='system'), Model(id='gpt-audio-2025-08-28', created=1756256146, object='model', owned_by='system'), Model(id='gpt-realtime', created=1756271701, object='model', owned_by='system'), Model(id='gpt-realtime-2025-08-28', created=1756271773, object='model', owned_by='system'), Model(id='gpt-audio', created=1756339249, object='model', owned_by='system'), Model(id='gpt-5-codex', created=1757527818, object='model', owned_by='system'), Model(id='gpt-image-1-mini', created=1758845821, object='model', owned_by='system'), Model(id='gpt-5-pro-2025-10-06', created=1759469707, object='model', owned_by='system'), Model(id='gpt-5-pro', created=1759469822, object='model', owned_by='system'), Model(id='gpt-audio-mini', created=1759512027, object='model', owned_by='system'), Model(id='gpt-3.5-turbo-16k', created=1683758102, object='model', owned_by='openai-internal'), Model(id='tts-1', created=1681940951, object='model', owned_by='openai-internal'), Model(id='whisper-1', created=1677532384, object='model', owned_by='openai-internal'), Model(id='text-embedding-ada-002', created=1671217299, object='model', owned_by='openai-internal')], object='list')\n"
     ]
    }
   ],
   "source": [
    "client = OpenAI(api_key=os.getenv(\"OPENAI_API_KEY\"))\n",
    "print(client.models.list())\n"
   ]
  },
  {
   "cell_type": "markdown",
   "id": "1449433b-353e-4d2b-87ae-cea615bcf39b",
   "metadata": {},
   "source": [
    "Why: define IO and a dated run folder for your artifacts."
   ]
  },
  {
   "cell_type": "markdown",
   "id": "b3a453e1-e627-4a2d-b982-743bb9338eac",
   "metadata": {},
   "source": [
    "Cell 2 — Load structured inputs and prep bullet material"
   ]
  },
  {
   "cell_type": "code",
   "execution_count": 185,
   "id": "6b006eeb-460d-4c76-b3a1-e39b67f13d22",
   "metadata": {},
   "outputs": [
    {
     "name": "stdout",
     "output_type": "stream",
     "text": [
      "Key prefix: sk-proj-5M\n",
      "Project  : proj_me1M6b0L0fFys4YuGRVEkJD2\n",
      "Reply: Sure!\n"
     ]
    }
   ],
   "source": [
    "import os\n",
    "from dotenv import load_dotenv\n",
    "from openai import OpenAI\n",
    "\n",
    "# Clear any cached env in this kernel\n",
    "if \"OPENAI_API_KEY\" in os.environ: del os.environ[\"OPENAI_API_KEY\"]\n",
    "if \"OPENAI_PROJECT\" in os.environ: del os.environ[\"OPENAI_PROJECT\"]\n",
    "\n",
    "load_dotenv(\"keys.env\", override=True)\n",
    "print(\"Key prefix:\", os.getenv(\"OPENAI_API_KEY\")[:10])\n",
    "print(\"Project  :\", os.getenv(\"OPENAI_PROJECT\"))\n",
    "\n",
    "client = OpenAI(\n",
    "    api_key=os.getenv(\"OPENAI_API_KEY\"),\n",
    "    project=os.getenv(\"OPENAI_PROJECT\")  # <-- important\n",
    ")\n",
    "\n",
    "# Tiny sanity call (uses almost no tokens)\n",
    "r = client.chat.completions.create(\n",
    "    model=\"gpt-4o-mini\",\n",
    "    messages=[{\"role\":\"user\",\"content\":\"One-word reply: OK\"}],\n",
    "    max_tokens=3,\n",
    "    temperature=0\n",
    ")\n",
    "print(\"Reply:\", r.choices[0].message.content)\n"
   ]
  },
  {
   "cell_type": "code",
   "execution_count": null,
   "id": "11c5606b-4389-479c-9182-a33aa704c51c",
   "metadata": {},
   "outputs": [],
   "source": []
  },
  {
   "cell_type": "code",
   "execution_count": 187,
   "id": "890f1a28-99d0-40db-82a2-879f73937e31",
   "metadata": {},
   "outputs": [
    {
     "data": {
      "text/plain": [
       "['[news_000] MACRO: Gold is hitting record highs above $4,000.',\n",
       " '[news_001] MACRO: Asia-Pacific markets set to open higher',\n",
       " \"[news_002] MACRO: Jensen Huang said his family wouldn't have been able to afford the $100K H-1B visa fee when they immigrated to the US.\",\n",
       " \"[news_003] MACRO: Jensen Huang's family would not have been able to afford the $100K H-1B visa fee when they immigrated to the US.\",\n",
       " '[news_004] OTHER: Graphcore to invest $1.3 billion in India']"
      ]
     },
     "execution_count": 187,
     "metadata": {},
     "output_type": "execute_result"
    }
   ],
   "source": [
    "with open(CLASSIFIED_PATH, \"r\", encoding=\"utf-8\") as f:\n",
    "    classified = json.load(f)\n",
    "with open(EXTRACTED_PATH, \"r\", encoding=\"utf-8\") as f:\n",
    "    extracted = json.load(f)\n",
    "\n",
    "dfc = pd.DataFrame(classified)\n",
    "dfe = pd.DataFrame(extracted)\n",
    "\n",
    "# Helper: build compact bullet lines with source_id references\n",
    "def make_bullets(dfe: pd.DataFrame, max_items=12):\n",
    "    rows = dfe.copy()\n",
    "    rows[\"date\"] = rows[\"date\"].fillna(\"\")\n",
    "    rows[\"entities\"] = rows[\"entities\"].apply(lambda x: \", \".join(x) if isinstance(x, list) else \"\")\n",
    "    rows[\"numerics\"] = rows[\"numerics\"].apply(\n",
    "        lambda xs: \"; \".join([f'{x.get(\"metric\")}={x.get(\"value\")}{x.get(\"unit\") or \"\"}' for x in xs]) if isinstance(xs, list) else \"\"\n",
    "    )\n",
    "    rows[\"claims\"] = rows[\"claims\"].apply(lambda xs: xs[0] if isinstance(xs, list) and xs else \"\")\n",
    "    # prefer non-empty claims, then numerics\n",
    "    rows[\"line\"] = rows.apply(\n",
    "        lambda r: f\"[{r['source_id']}] {r['type']}: {r['claims'] or r['entities'] or r['numerics']}\".strip(),\n",
    "        axis=1\n",
    "    )\n",
    "    # dedupe simple repeats\n",
    "    uniq = []\n",
    "    seen = set()\n",
    "    for _, r in rows.iterrows():\n",
    "        line = r[\"line\"]\n",
    "        if line and line not in seen:\n",
    "            uniq.append(line)\n",
    "            seen.add(line)\n",
    "        if len(uniq) >= max_items:\n",
    "            break\n",
    "    return uniq\n",
    "\n",
    "bullets_seed = make_bullets(dfe, max_items=12)\n",
    "bullets_seed[:5]\n"
   ]
  },
  {
   "cell_type": "markdown",
   "id": "54f5d58b-bc1c-4522-a9ea-40b5fb31cc65",
   "metadata": {},
   "source": [
    "Why: turns extracted facts into concise seed bullets that we’ll summarize from."
   ]
  },
  {
   "cell_type": "markdown",
   "id": "efb91d60-476e-4533-a567-823d3ec82a12",
   "metadata": {},
   "source": [
    "Cell 3 — Summarizer (draft memo)"
   ]
  },
  {
   "cell_type": "code",
   "execution_count": 189,
   "id": "53d99ba0-07f6-4d23-9b88-f126e66c9843",
   "metadata": {},
   "outputs": [
    {
     "name": "stdout",
     "output_type": "stream",
     "text": [
      "### Investor Memo: NVIDIA (NVDA)\n",
      "\n",
      "#### Key Developments\n",
      "- [news_008] Financial institutions are raising concerns about a potential AI investment bubble.\n",
      "- [news_009] OpenAI has inked $1 trillion worth of infrastructure deals this year.\n",
      "- [news_010] OpenAI has more big deals coming soon.\n",
      "- [news_004] Graphcore is set to invest $1.3 billion in India, indicating increased competition in the AI hardware space.\n",
      "- [news_011] China's humanoid robot industry is experiencing growth, which may impact NVIDIA's market share in AI applications.\n",
      "\n",
      "#### Catalysts\n",
      "- Increased demand for AI infrastructure, as evidenced by OpenAI's significant deals.\n",
      "- Potential for NVIDIA to benefit from the ongoing optimism around AI technologies.\n",
      "- Growth in the Asia-Pacific markets could enhance NVIDIA's sales in that region.\n",
      "\n",
      "#### Risks\n",
      "- Concerns about an AI investment bubble could lead to market corrections affecting NVIDIA's stock.\n",
      "- Increased competition from companies like Graphcore and developments in China's AI sector.\n",
      "- Ongoing macroeconomic factors, including interest rate fluctuations and potential government shutdowns, may impact investor sentiment.\n",
      "\n",
      "#### What to Watch Next\n",
      "Monitor NVIDIA's response t\n"
     ]
    }
   ],
   "source": [
    "def llm_text(system: str, user: str, model=MODEL, temperature=0.2, max_tokens=800):\n",
    "    r = client.chat.completions.create(\n",
    "        model=model,\n",
    "        temperature=temperature,\n",
    "        messages=[{\"role\":\"system\",\"content\":system},\n",
    "                  {\"role\":\"user\",\"content\":user}],\n",
    "        max_tokens=max_tokens\n",
    "    )\n",
    "    return r.choices[0].message.content\n",
    "\n",
    "SUMMARY_SYS = \"\"\"You are an investment research writer. Be concise, factual, and actionable.\n",
    "Use bullet points with bracketed source_ids like [news_003].\n",
    "No hype, no unsupported numbers. Avoid speculation.\n",
    "\"\"\"\n",
    "\n",
    "def write_memo(ticker: str, bullets: list[str]) -> str:\n",
    "    user = f\"\"\"\n",
    "Ticker: {ticker}\n",
    "Task: Write an investor memo using ONLY these factual bullets (each starts with a source_id in brackets). \n",
    "Organize as:\n",
    "- Key developments (5–8 bullets; each ends with its source_id)\n",
    "- Catalysts (3 bullets)\n",
    "- Risks (3 bullets)\n",
    "- What to watch next (1 short paragraph)\n",
    "\n",
    "Bullets:\n",
    "{chr(10).join(['- ' + b for b in bullets if b.strip()])}\n",
    "\"\"\"\n",
    "    return llm_text(SUMMARY_SYS, user, temperature=0.2, max_tokens=900)\n",
    "\n",
    "memo_pre = write_memo(\"NVDA\", bullets_seed)\n",
    "print(memo_pre[:1200])\n"
   ]
  },
  {
   "cell_type": "markdown",
   "id": "803cf319-4196-4685-9790-7b12c614eac0",
   "metadata": {},
   "source": [
    "Why: produces your first draft memo grounded in extracted bullets."
   ]
  },
  {
   "cell_type": "markdown",
   "id": "f39a7034-f80e-4b19-a259-b21f54294a7c",
   "metadata": {},
   "source": [
    "Cell 4 — Save summary_pre.md"
   ]
  },
  {
   "cell_type": "code",
   "execution_count": 193,
   "id": "9c187e3d-e541-4f1c-8640-74e54bc953c7",
   "metadata": {},
   "outputs": [
    {
     "name": "stdout",
     "output_type": "stream",
     "text": [
      "Saved: runs/NVDA_2025-10-09/summary_pre.md\n"
     ]
    }
   ],
   "source": [
    "SUMMARY_PRE_PATH = f\"{RUN_DIR}/summary_pre.md\"\n",
    "with open(SUMMARY_PRE_PATH, \"w\", encoding=\"utf-8\") as f:\n",
    "    f.write(memo_pre)\n",
    "print(\"Saved:\", SUMMARY_PRE_PATH)\n"
   ]
  },
  {
   "cell_type": "markdown",
   "id": "1af4aef9-7df1-4ac8-9fdb-628f0fbe911c",
   "metadata": {},
   "source": [
    "Why: persist the draft for grading/tracking."
   ]
  },
  {
   "cell_type": "markdown",
   "id": "97c9a915-4175-49fb-885b-da27237fc6ce",
   "metadata": {},
   "source": [
    "Cell 5 — Evaluator (self-critique scorecard)"
   ]
  },
  {
   "cell_type": "code",
   "execution_count": 198,
   "id": "570782a4-7c90-491e-91b2-f9c603b098db",
   "metadata": {},
   "outputs": [
    {
     "data": {
      "text/plain": [
       "{'coverage': 4,\n",
       " 'grounding': 3,\n",
       " 'numeric': 2,\n",
       " 'consistency': 4,\n",
       " 'actionability': 4,\n",
       " 'notes': ['Add more specific data points or statistics to support claims.',\n",
       "  'Cite sources more consistently to strengthen grounding.',\n",
       "  'Clarify the potential impact of the $1 trillion in deals mentioned.',\n",
       "  'Ensure all claims about competition are backed by specific examples or data.']}"
      ]
     },
     "execution_count": 198,
     "metadata": {},
     "output_type": "execute_result"
    }
   ],
   "source": [
    "EVAL_SYS = \"\"\"Evaluate a finance memo for research quality on a 0..5 scale.\n",
    "Return strict JSON with fields:\n",
    "coverage, grounding, numeric, consistency, actionability (numbers 0..5),\n",
    "notes (array of brief fix-it suggestions).\n",
    "Rules:\n",
    "- Coverage: captures major developments? \n",
    "- Grounding: tied to cited source_ids?\n",
    "- Numeric: correct + specific? avoid made-up numbers.\n",
    "- Consistency: labels and claims align; no contradictions.\n",
    "- Actionability: clear catalysts/risks and what to watch next.\n",
    "\"\"\"\n",
    "\n",
    "def evaluate_memo(memo: str) -> dict:\n",
    "    user = f\"Memo under review:\\n\\n{memo}\\n\\nReturn JSON only.\"\n",
    "    resp = client.chat.completions.create(\n",
    "        model=MODEL,\n",
    "        temperature=0.0,\n",
    "        response_format={\"type\": \"json_object\"},\n",
    "        messages=[{\"role\":\"system\",\"content\":EVAL_SYS},\n",
    "                  {\"role\":\"user\",\"content\":user}]\n",
    "    )\n",
    "    import json\n",
    "    try:\n",
    "        return json.loads(resp.choices[0].message.content)\n",
    "    except Exception:\n",
    "        return {\"coverage\":0,\"grounding\":0,\"numeric\":0,\"consistency\":0,\"actionability\":0,\"notes\":[\"parse error\"]}\n",
    "\n",
    "scorecard = evaluate_memo(memo_pre)\n",
    "scorecard\n"
   ]
  },
  {
   "cell_type": "markdown",
   "id": "84cddf10-9821-49ee-b8f5-f8c361c611fc",
   "metadata": {},
   "source": [
    "Cell 6 — Save scorecard.json"
   ]
  },
  {
   "cell_type": "code",
   "execution_count": 201,
   "id": "5ffb8469-1c90-49dc-9ed6-dee6013f7600",
   "metadata": {},
   "outputs": [
    {
     "name": "stdout",
     "output_type": "stream",
     "text": [
      "Saved: runs/NVDA_2025-10-09/scorecard.json\n"
     ]
    },
    {
     "data": {
      "text/html": [
       "<div>\n",
       "<style scoped>\n",
       "    .dataframe tbody tr th:only-of-type {\n",
       "        vertical-align: middle;\n",
       "    }\n",
       "\n",
       "    .dataframe tbody tr th {\n",
       "        vertical-align: top;\n",
       "    }\n",
       "\n",
       "    .dataframe thead th {\n",
       "        text-align: right;\n",
       "    }\n",
       "</style>\n",
       "<table border=\"1\" class=\"dataframe\">\n",
       "  <thead>\n",
       "    <tr style=\"text-align: right;\">\n",
       "      <th></th>\n",
       "      <th>coverage</th>\n",
       "      <th>grounding</th>\n",
       "      <th>numeric</th>\n",
       "      <th>consistency</th>\n",
       "      <th>actionability</th>\n",
       "      <th>notes</th>\n",
       "    </tr>\n",
       "  </thead>\n",
       "  <tbody>\n",
       "    <tr>\n",
       "      <th>0</th>\n",
       "      <td>4</td>\n",
       "      <td>3</td>\n",
       "      <td>2</td>\n",
       "      <td>4</td>\n",
       "      <td>4</td>\n",
       "      <td>[Add more specific data points or statistics t...</td>\n",
       "    </tr>\n",
       "  </tbody>\n",
       "</table>\n",
       "</div>"
      ],
      "text/plain": [
       "   coverage  grounding  numeric  consistency  actionability  \\\n",
       "0         4          3        2            4              4   \n",
       "\n",
       "                                               notes  \n",
       "0  [Add more specific data points or statistics t...  "
      ]
     },
     "execution_count": 201,
     "metadata": {},
     "output_type": "execute_result"
    }
   ],
   "source": [
    "SCORE_PATH = f\"{RUN_DIR}/scorecard.json\"\n",
    "with open(SCORE_PATH, \"w\", encoding=\"utf-8\") as f:\n",
    "    json.dump(scorecard, f, indent=2)\n",
    "print(\"Saved:\", SCORE_PATH)\n",
    "pd.DataFrame([scorecard])\n"
   ]
  },
  {
   "cell_type": "markdown",
   "id": "4691a82f-c447-4674-b0ed-92ab2794f98c",
   "metadata": {},
   "source": [
    "Cell 7 — Optimizer (apply fix-its if any subscore < 4)"
   ]
  },
  {
   "cell_type": "code",
   "execution_count": 204,
   "id": "278157aa-d225-4c00-85e7-51d1a86e37e8",
   "metadata": {},
   "outputs": [
    {
     "name": "stdout",
     "output_type": "stream",
     "text": [
      "### Investor Memo: NVIDIA (NVDA)\n",
      "\n",
      "#### Key Developments\n",
      "- [news_008] Financial institutions are raising concerns about a potential AI investment bubble.\n",
      "- [news_009] OpenAI has inked $1 trillion worth of infrastructure deals this year, which could significantly enhance the demand for AI technologies and infrastructure.\n",
      "- [news_010] OpenAI has more big deals coming soon, indicating sustained growth in the AI sector.\n",
      "- [news_004] Graphcore is set to invest $1.3 billion in India, indicating increased competition in the AI hardware space.\n",
      "- [news_011] China's humanoid robot industry is experiencing growth, which may impact NVIDIA's market share in AI applications.\n",
      "\n",
      "#### Catalysts\n",
      "- Increased demand for AI infrastructure, as evidenced by OpenAI's significant deals, which could lead to a surge in sales for NVIDIA.\n",
      "- Potential for NVIDIA to benefit from the ongoing optimism around AI technologies, supported by the substantial investments in the sector.\n",
      "- Growth in the Asia-Pacific markets could enhance NVIDIA's sales in that region, particularly with competitors like Graphcore expanding their presence.\n",
      "\n",
      "#### Risks\n",
      "- Concerns about an AI investment bubble could lead to market corrections a\n"
     ]
    }
   ],
   "source": [
    "def optimize_memo(original_memo: str, scorecard: dict, bullets: list[str]) -> str:\n",
    "    subscores = {k:scorecard.get(k,0) for k in [\"coverage\",\"grounding\",\"numeric\",\"consistency\",\"actionability\"]}\n",
    "    needs_fix = any(v < 4 for v in subscores.values())\n",
    "    if not needs_fix:\n",
    "        return original_memo  # good enough\n",
    "\n",
    "    fix_list = scorecard.get(\"notes\", [])\n",
    "    FIX_SYS = \"\"\"You are revising a finance memo strictly using provided bullets and fix-it notes.\n",
    "- Keep citations [source_id].\n",
    "- Do NOT add new claims beyond bullets.\n",
    "- Apply only the fix-it notes.\n",
    "- Be concise and structured as before.\n",
    "\"\"\"\n",
    "    user = f\"\"\"\n",
    "Original memo:\n",
    "{original_memo}\n",
    "\n",
    "Fix-it notes (apply all, do not invent new facts):\n",
    "{chr(10).join(['- '+n for n in fix_list])}\n",
    "\n",
    "Allowed factual bullets (the only source of truth):\n",
    "{chr(10).join(['- ' + b for b in bullets if b.strip()])}\n",
    "\n",
    "Return the fully revised memo text.\n",
    "\"\"\"\n",
    "    return llm_text(FIX_SYS, user, temperature=0.2, max_tokens=900)\n",
    "\n",
    "memo_post = optimize_memo(memo_pre, scorecard, bullets_seed)\n",
    "print(memo_post[:1200])\n"
   ]
  },
  {
   "cell_type": "markdown",
   "id": "289ceb45-31e0-4e0f-8f20-f84affaf7461",
   "metadata": {},
   "source": [
    "Why: Evaluator–Optimizer loop that improves the memo without hallucinating."
   ]
  },
  {
   "cell_type": "markdown",
   "id": "a22c7bf5-b4cf-41b1-9488-ebd63e060cb0",
   "metadata": {},
   "source": [
    "Cell 8 — Save summary_post.md and show diff hint"
   ]
  },
  {
   "cell_type": "code",
   "execution_count": 209,
   "id": "0f45d70b-91c2-4dc7-8239-7b3ce91e7208",
   "metadata": {},
   "outputs": [
    {
     "name": "stdout",
     "output_type": "stream",
     "text": [
      "Saved: runs/NVDA_2025-10-09/summary_post.md\n",
      "\n",
      "== Change check ==\n",
      "Pre length: 1452 Post length: 1805\n",
      "Memo was revised based on scorecard ✅\n"
     ]
    }
   ],
   "source": [
    "SUMMARY_POST_PATH = f\"{RUN_DIR}/summary_post.md\"\n",
    "with open(SUMMARY_POST_PATH, \"w\", encoding=\"utf-8\") as f:\n",
    "    f.write(memo_post)\n",
    "print(\"Saved:\", SUMMARY_POST_PATH)\n",
    "\n",
    "print(\"\\n== Change check ==\")\n",
    "print(\"Pre length:\", len(memo_pre), \"Post length:\", len(memo_post))\n",
    "if memo_post != memo_pre:\n",
    "    print(\"Memo was revised based on scorecard ✅\")\n",
    "else:\n",
    "    print(\"No changes needed (already >=4 on all subscores) ✅\")\n"
   ]
  },
  {
   "cell_type": "markdown",
   "id": "fb53ab38-6cd4-4367-856f-bf6770a21c5f",
   "metadata": {},
   "source": [
    "#### MILESTONE 5 "
   ]
  },
  {
   "cell_type": "markdown",
   "id": "e91ce53c-c641-48b9-9bc8-d948e17b72de",
   "metadata": {},
   "source": [
    "Milestone 5: Orchestration + Memory"
   ]
  },
  {
   "cell_type": "markdown",
   "id": "07571e02-83ca-48af-b1b8-196ddf9142a5",
   "metadata": {},
   "source": [
    "Cell 1 — Install (first time only)"
   ]
  },
  {
   "cell_type": "code",
   "execution_count": 214,
   "id": "12b2e3f9-9ac1-490f-aefb-0ffefd74406c",
   "metadata": {},
   "outputs": [
    {
     "name": "stdout",
     "output_type": "stream",
     "text": [
      "Requirement already satisfied: python-dotenv in c:\\users\\yogsa\\anaconda3\\lib\\site-packages (0.21.0)\n",
      "Requirement already satisfied: pandas in c:\\users\\yogsa\\anaconda3\\lib\\site-packages (2.3.2)\n",
      "Requirement already satisfied: tqdm in c:\\users\\yogsa\\anaconda3\\lib\\site-packages (4.67.1)\n",
      "Requirement already satisfied: openai in c:\\users\\yogsa\\anaconda3\\lib\\site-packages (1.108.2)\n",
      "Requirement already satisfied: yfinance in c:\\users\\yogsa\\anaconda3\\lib\\site-packages (0.2.66)\n",
      "Requirement already satisfied: beautifulsoup4 in c:\\users\\yogsa\\anaconda3\\lib\\site-packages (4.12.2)\n",
      "Requirement already satisfied: requests in c:\\users\\yogsa\\anaconda3\\lib\\site-packages (2.32.5)\n",
      "Requirement already satisfied: feedparser in c:\\users\\yogsa\\anaconda3\\lib\\site-packages (6.0.12)\n",
      "Requirement already satisfied: numpy>=1.23.2 in c:\\users\\yogsa\\anaconda3\\lib\\site-packages (from pandas) (1.26.4)\n",
      "Requirement already satisfied: python-dateutil>=2.8.2 in c:\\users\\yogsa\\anaconda3\\lib\\site-packages (from pandas) (2.9.0.post0)\n",
      "Requirement already satisfied: pytz>=2020.1 in c:\\users\\yogsa\\anaconda3\\lib\\site-packages (from pandas) (2025.2)\n",
      "Requirement already satisfied: tzdata>=2022.7 in c:\\users\\yogsa\\anaconda3\\lib\\site-packages (from pandas) (2025.2)\n",
      "Requirement already satisfied: colorama in c:\\users\\yogsa\\anaconda3\\lib\\site-packages (from tqdm) (0.4.6)\n",
      "Requirement already satisfied: anyio<5,>=3.5.0 in c:\\users\\yogsa\\anaconda3\\lib\\site-packages (from openai) (4.2.0)\n",
      "Requirement already satisfied: distro<2,>=1.7.0 in c:\\users\\yogsa\\anaconda3\\lib\\site-packages (from openai) (1.8.0)\n",
      "Requirement already satisfied: httpx<1,>=0.23.0 in c:\\users\\yogsa\\anaconda3\\lib\\site-packages (from openai) (0.26.0)\n",
      "Requirement already satisfied: jiter<1,>=0.4.0 in c:\\users\\yogsa\\anaconda3\\lib\\site-packages (from openai) (0.11.0)\n",
      "Requirement already satisfied: pydantic<3,>=1.9.0 in c:\\users\\yogsa\\anaconda3\\lib\\site-packages (from openai) (2.11.9)\n",
      "Requirement already satisfied: sniffio in c:\\users\\yogsa\\anaconda3\\lib\\site-packages (from openai) (1.3.0)\n",
      "Requirement already satisfied: typing-extensions<5,>=4.11 in c:\\users\\yogsa\\anaconda3\\lib\\site-packages (from openai) (4.15.0)\n",
      "Requirement already satisfied: idna>=2.8 in c:\\users\\yogsa\\anaconda3\\lib\\site-packages (from anyio<5,>=3.5.0->openai) (3.10)\n",
      "Requirement already satisfied: certifi in c:\\users\\yogsa\\anaconda3\\lib\\site-packages (from httpx<1,>=0.23.0->openai) (2025.8.3)\n",
      "Requirement already satisfied: httpcore==1.* in c:\\users\\yogsa\\anaconda3\\lib\\site-packages (from httpx<1,>=0.23.0->openai) (1.0.2)\n",
      "Requirement already satisfied: h11<0.15,>=0.13 in c:\\users\\yogsa\\anaconda3\\lib\\site-packages (from httpcore==1.*->httpx<1,>=0.23.0->openai) (0.14.0)\n",
      "Requirement already satisfied: annotated-types>=0.6.0 in c:\\users\\yogsa\\anaconda3\\lib\\site-packages (from pydantic<3,>=1.9.0->openai) (0.6.0)\n",
      "Requirement already satisfied: pydantic-core==2.33.2 in c:\\users\\yogsa\\anaconda3\\lib\\site-packages (from pydantic<3,>=1.9.0->openai) (2.33.2)\n",
      "Requirement already satisfied: typing-inspection>=0.4.0 in c:\\users\\yogsa\\anaconda3\\lib\\site-packages (from pydantic<3,>=1.9.0->openai) (0.4.1)\n",
      "Requirement already satisfied: multitasking>=0.0.7 in c:\\users\\yogsa\\anaconda3\\lib\\site-packages (from yfinance) (0.0.12)\n",
      "Requirement already satisfied: platformdirs>=2.0.0 in c:\\users\\yogsa\\anaconda3\\lib\\site-packages (from yfinance) (3.10.0)\n",
      "Requirement already satisfied: frozendict>=2.3.4 in c:\\users\\yogsa\\anaconda3\\lib\\site-packages (from yfinance) (2.4.2)\n",
      "Requirement already satisfied: peewee>=3.16.2 in c:\\users\\yogsa\\anaconda3\\lib\\site-packages (from yfinance) (3.18.2)\n",
      "Requirement already satisfied: curl_cffi>=0.7 in c:\\users\\yogsa\\anaconda3\\lib\\site-packages (from yfinance) (0.13.0)\n",
      "Requirement already satisfied: protobuf>=3.19.0 in c:\\users\\yogsa\\anaconda3\\lib\\site-packages (from yfinance) (3.20.3)\n",
      "Requirement already satisfied: websockets>=13.0 in c:\\users\\yogsa\\anaconda3\\lib\\site-packages (from yfinance) (15.0.1)\n",
      "Requirement already satisfied: soupsieve>1.2 in c:\\users\\yogsa\\anaconda3\\lib\\site-packages (from beautifulsoup4) (2.5)\n",
      "Requirement already satisfied: charset_normalizer<4,>=2 in c:\\users\\yogsa\\anaconda3\\lib\\site-packages (from requests) (3.4.3)\n",
      "Requirement already satisfied: urllib3<3,>=1.21.1 in c:\\users\\yogsa\\anaconda3\\lib\\site-packages (from requests) (2.5.0)\n",
      "Requirement already satisfied: sgmllib3k in c:\\users\\yogsa\\anaconda3\\lib\\site-packages (from feedparser) (1.0.0)\n",
      "Requirement already satisfied: cffi>=1.12.0 in c:\\users\\yogsa\\anaconda3\\lib\\site-packages (from curl_cffi>=0.7->yfinance) (1.16.0)\n",
      "Requirement already satisfied: pycparser in c:\\users\\yogsa\\anaconda3\\lib\\site-packages (from cffi>=1.12.0->curl_cffi>=0.7->yfinance) (2.21)\n",
      "Requirement already satisfied: six>=1.5 in c:\\users\\yogsa\\anaconda3\\lib\\site-packages (from python-dateutil>=2.8.2->pandas) (1.17.0)\n"
     ]
    }
   ],
   "source": [
    "!pip install python-dotenv pandas tqdm openai yfinance beautifulsoup4 requests feedparser\n"
   ]
  },
  {
   "cell_type": "markdown",
   "id": "a311e44a-4b63-41f0-9586-cc1fc6ebd87a",
   "metadata": {},
   "source": [
    "Cell 2 — Imports, env, client, constants"
   ]
  },
  {
   "cell_type": "code",
   "execution_count": 217,
   "id": "dfd8648e-0e2a-472a-835b-a9f49ff82cdc",
   "metadata": {},
   "outputs": [],
   "source": [
    "import os, json, time, re, datetime, pandas as pd\n",
    "from pathlib import Path\n",
    "from dotenv import load_dotenv\n",
    "from openai import OpenAI\n",
    "\n",
    "# Load keys\n",
    "load_dotenv(\"keys.env\")\n",
    "OPENAI_API_KEY = os.getenv(\"OPENAI_API_KEY\")\n",
    "assert OPENAI_API_KEY, \"Missing OPENAI_API_KEY in keys.env\"\n",
    "\n",
    "# OpenAI client\n",
    "client = OpenAI(api_key=OPENAI_API_KEY)\n",
    "MODEL = \"gpt-4o-mini\"\n",
    "\n",
    "# Project paths\n",
    "Path(\"runs\").mkdir(exist_ok=True)\n",
    "Path(\"data/structured\").mkdir(parents=True, exist_ok=True)\n",
    "\n",
    "# Orchestration defaults\n",
    "TICKER_DEFAULT = \"NVDA\"\n",
    "WINDOW_DAYS_DEFAULT = 7\n",
    "TOP_K_DEFAULT = 8  # controls LLM cost\n"
   ]
  },
  {
   "cell_type": "markdown",
   "id": "90311d88-f6f3-4909-87dc-b04465f478f7",
   "metadata": {},
   "source": [
    "Cell 3 — Small utilities (retry + IO)"
   ]
  },
  {
   "cell_type": "code",
   "execution_count": 220,
   "id": "38855ae0-0a62-41e4-8634-5b43d5ac027f",
   "metadata": {},
   "outputs": [],
   "source": [
    "def with_retry(fn, max_tries=4, base_delay=1.0):\n",
    "    for i in range(max_tries):\n",
    "        try:\n",
    "            return fn()\n",
    "        except Exception as e:\n",
    "            emsg = getattr(getattr(e, \"response\", None), \"text\", str(e))\n",
    "            if \"429\" in emsg or \"rate_limit\" in emsg or \"insufficient_quota\" in emsg:\n",
    "                time.sleep(base_delay * (2 ** i))\n",
    "                continue\n",
    "            raise\n",
    "    raise RuntimeError(\"Exceeded retries\")\n",
    "\n",
    "def write_text(path, text):\n",
    "    Path(path).parent.mkdir(parents=True, exist_ok=True)\n",
    "    with open(path, \"w\", encoding=\"utf-8\") as f:\n",
    "        f.write(text)\n",
    "\n",
    "def write_json(path, obj):\n",
    "    Path(path).parent.mkdir(parents=True, exist_ok=True)\n",
    "    with open(path, \"w\", encoding=\"utf-8\") as f:\n",
    "        json.dump(obj, f, indent=2, ensure_ascii=False)\n",
    "\n",
    "def read_json(path, default=None):\n",
    "    if not os.path.exists(path): return default\n",
    "    with open(path, \"r\", encoding=\"utf-8\") as f:\n",
    "        return json.load(f)\n"
   ]
  },
  {
   "cell_type": "markdown",
   "id": "a89ab05e-3fc6-4fd1-b5f5-099b6000e084",
   "metadata": {},
   "source": [
    "Cell 4 — Lightweight LLM helpers (JSON/text)"
   ]
  },
  {
   "cell_type": "code",
   "execution_count": 223,
   "id": "52b2ed98-b822-41ae-82db-cb7932b5bde7",
   "metadata": {},
   "outputs": [],
   "source": [
    "def llm_json(sys, usr):\n",
    "    def _call():\n",
    "        r = client.chat.completions.create(\n",
    "            model=MODEL, temperature=0.2,\n",
    "            response_format={\"type\": \"json_object\"},\n",
    "            messages=[{\"role\":\"system\",\"content\":sys},{\"role\":\"user\",\"content\":usr}]\n",
    "        )\n",
    "        return json.loads(r.choices[0].message.content)\n",
    "    return with_retry(_call)\n",
    "\n",
    "def llm_text(sys, usr, max_tokens=900, temp=0.2):\n",
    "    def _call():\n",
    "        r = client.chat.completions.create(\n",
    "            model=MODEL, temperature=temp, max_tokens=max_tokens,\n",
    "            messages=[{\"role\":\"system\",\"content\":sys},{\"role\":\"user\",\"content\":usr}]\n",
    "        )\n",
    "        return r.choices[0].message.content\n",
    "    return with_retry(_call)\n"
   ]
  },
  {
   "cell_type": "markdown",
   "id": "ef058ef4-348b-4dc4-a3f1-ddbdf0fe4cd7",
   "metadata": {},
   "source": [
    "Cell 5 — Planner (creates short plan steps)"
   ]
  },
  {
   "cell_type": "code",
   "execution_count": 226,
   "id": "1c8ff3e9-853c-4cf8-b9f9-51ec80213eee",
   "metadata": {},
   "outputs": [],
   "source": [
    "PLANNER_SYS = \"\"\"You are an investment research planner. Output a 6–10 step plan for a given TICKER and WINDOW_DAYS.\n",
    "Keep steps concrete (fetch prices/news/filings, preprocess, route, classify, extract, summarize, evaluate, optimize).\"\"\"\n",
    "\n",
    "def make_plan(ticker, window_days):\n",
    "    user = f\"TICKER={ticker}\\nWINDOW_DAYS={window_days}\\nReturn numbered steps.\"\n",
    "    out = llm_text(PLANNER_SYS, user, max_tokens=400, temp=0.1)\n",
    "    return out\n"
   ]
  },
  {
   "cell_type": "markdown",
   "id": "0cab0e17-eaaf-409a-828c-63df19d6e647",
   "metadata": {},
   "source": [
    "Cell 6 — Load prior milestone artifacts (or fail clearly)"
   ]
  },
  {
   "cell_type": "code",
   "execution_count": 229,
   "id": "7196820c-4e24-4240-92bd-595baba8ea52",
   "metadata": {},
   "outputs": [
    {
     "name": "stdout",
     "output_type": "stream",
     "text": [
      "Artifacts loaded (None means missing):\n"
     ]
    },
    {
     "data": {
      "text/plain": [
       "{'prices_csv': 'data/prices/NVDA_prices_7d.csv',\n",
       " 'news_json': 'data/news/NVDA_news_last7.json',\n",
       " 'filings_index': 'data/filings/filings_index.json',\n",
       " 'classified_json': 'data/structured/classified.json',\n",
       " 'extracted_json': 'data/structured/extracted.json',\n",
       " 'missing': []}"
      ]
     },
     "execution_count": 229,
     "metadata": {},
     "output_type": "execute_result"
    }
   ],
   "source": [
    "def load_artifacts(ticker):\n",
    "    # From Milestones 1–3\n",
    "    prices_csv = None\n",
    "    # try common price file names\n",
    "    for d in [7, 30]:\n",
    "        p = f\"data/prices/{ticker}_prices_{d}d.csv\"\n",
    "        if os.path.exists(p): prices_csv = p; break\n",
    "\n",
    "    news_json = f\"data/news/{ticker}_news_last7.json\"\n",
    "    filings_index = \"data/filings/filings_index.json\"\n",
    "    classified_json = \"data/structured/classified.json\"\n",
    "    extracted_json  = \"data/structured/extracted.json\"\n",
    "\n",
    "    missing = [p for p in [prices_csv, news_json, filings_index, classified_json, extracted_json] if not p or not os.path.exists(p)]\n",
    "    return {\n",
    "        \"prices_csv\": prices_csv,\n",
    "        \"news_json\": news_json if os.path.exists(news_json) else None,\n",
    "        \"filings_index\": filings_index if os.path.exists(filings_index) else None,\n",
    "        \"classified_json\": classified_json if os.path.exists(classified_json) else None,\n",
    "        \"extracted_json\": extracted_json if os.path.exists(extracted_json) else None,\n",
    "        \"missing\": missing\n",
    "    }\n",
    "\n",
    "arts = load_artifacts(TICKER_DEFAULT)\n",
    "print(\"Artifacts loaded (None means missing):\")\n",
    "arts\n"
   ]
  },
  {
   "cell_type": "markdown",
   "id": "e50ac2bb-83c1-4771-94d4-166c1d96b038",
   "metadata": {},
   "source": [
    "Cell 7 — Router summary (counts by analyzer from labels)"
   ]
  },
  {
   "cell_type": "code",
   "execution_count": 232,
   "id": "6df15c7f-9b23-4e31-a469-52e4bb875ac7",
   "metadata": {},
   "outputs": [],
   "source": [
    "def router_counts(classified_list):\n",
    "    # Map labels → analyzers\n",
    "    route_map = {\n",
    "        \"EARNINGS\": \"earnings_analyzer\",\n",
    "        \"GUIDANCE\": \"earnings_analyzer\",\n",
    "        \"REGULATORY\": \"regulatory_analyzer\",\n",
    "        \"LEGAL\": \"regulatory_analyzer\",\n",
    "        \"SUPPLY_CHAIN\": \"supply_chain_analyzer\",\n",
    "        \"PRODUCT\": \"general_news_analyzer\",\n",
    "        \"COMPETITION\": \"general_news_analyzer\",\n",
    "        \"MACRO\": \"macro_analyzer\",\n",
    "        \"OTHER\": \"general_news_analyzer\"\n",
    "    }\n",
    "    counts = {}\n",
    "    for row in classified_list:\n",
    "        label = row.get(\"label\",\"OTHER\")\n",
    "        dest = route_map.get(label, \"general_news_analyzer\")\n",
    "        counts[dest] = counts.get(dest, 0) + 1\n",
    "    return counts\n"
   ]
  },
  {
   "cell_type": "markdown",
   "id": "e78dbb82-12c7-4722-be53-fe1d6072eaec",
   "metadata": {},
   "source": [
    "Cell 8 — Summarize → Evaluate → Optimize (reusing Milestone 4 logic)"
   ]
  },
  {
   "cell_type": "code",
   "execution_count": 235,
   "id": "f57a908a-0ace-4278-a476-a921e696b3da",
   "metadata": {},
   "outputs": [],
   "source": [
    "def bullets_from_extractions(extracted, max_items=12):\n",
    "    rows = []\n",
    "    for r in extracted:\n",
    "        sid = r.get(\"source_id\",\"\")\n",
    "        typ = r.get(\"type\",\"OTHER\")\n",
    "        claims = r.get(\"claims\") or []\n",
    "        nums = r.get(\"numerics\") or []\n",
    "        ents = r.get(\"entities\") or []\n",
    "        line = f\"[{sid}] {typ}: \"\n",
    "        if claims: line += claims[0]\n",
    "        elif ents: line += \", \".join(ents)\n",
    "        elif nums: line += \"; \".join([f\"{n.get('metric')}={n.get('value')}{n.get('unit') or ''}\" for n in nums])\n",
    "        rows.append(line.strip())\n",
    "    # dedupe + cap\n",
    "    seen, out = set(), []\n",
    "    for ln in rows:\n",
    "        if ln and ln not in seen:\n",
    "            seen.add(ln); out.append(ln)\n",
    "        if len(out) >= max_items: break\n",
    "    return out\n",
    "\n",
    "SUMMARY_SYS = \"You are a precise investment memo writer. Use bullets with [source_id]; no speculation.\"\n",
    "EVAL_SYS = \"\"\"Evaluate memo 0..5 for coverage, grounding, numeric, consistency, actionability.\n",
    "Return JSON: {coverage, grounding, numeric, consistency, actionability, notes:[...]}\"\"\"\n",
    "\n",
    "def write_memo(ticker, bullets):\n",
    "    user = f\"\"\"Ticker: {ticker}\n",
    "Write an investor memo using ONLY these bullets (each ends with [source_id]).\n",
    "Sections:\n",
    "- Key developments (5–8 bullets)\n",
    "- Catalysts (3)\n",
    "- Risks (3)\n",
    "- What to watch next (1 short paragraph)\n",
    "\n",
    "Bullets:\n",
    "{chr(10).join('- '+b for b in bullets)}\n",
    "\"\"\"\n",
    "    return llm_text(SUMMARY_SYS, user, max_tokens=900, temp=0.2)\n",
    "\n",
    "def evaluate_memo(memo):\n",
    "    out = llm_json(EVAL_SYS, f\"Review this memo and return JSON only:\\n\\n{memo}\")\n",
    "    # safety fill\n",
    "    for k in [\"coverage\",\"grounding\",\"numeric\",\"consistency\",\"actionability\"]:\n",
    "        out[k] = float(out.get(k, 0))\n",
    "    out[\"notes\"] = out.get(\"notes\", [])\n",
    "    return out\n",
    "\n",
    "def optimize_memo(memo, scorecard, bullets):\n",
    "    if any(scorecard[k] < 4 for k in [\"coverage\",\"grounding\",\"numeric\",\"consistency\",\"actionability\"]):\n",
    "        FIX_SYS = \"\"\"Revise a memo using only provided fix-it notes and allowed bullets.\n",
    "Keep [source_id] citations; do not invent facts.\"\"\"\n",
    "        user = f\"\"\"Original memo:\n",
    "{memo}\n",
    "\n",
    "Fix-it notes:\n",
    "{chr(10).join('- '+n for n in scorecard.get('notes', []))}\n",
    "\n",
    "Allowed factual bullets:\n",
    "{chr(10).join('- '+b for b in bullets)}\n",
    "\"\"\"\n",
    "        return llm_text(FIX_SYS, user, max_tokens=900, temp=0.2)\n",
    "    return memo\n"
   ]
  },
  {
   "cell_type": "markdown",
   "id": "56b916fe-7e20-450f-92c2-ac40ece6e644",
   "metadata": {},
   "source": [
    "Cell 9 — Memory: append a one-liner note per run"
   ]
  },
  {
   "cell_type": "code",
   "execution_count": 238,
   "id": "d19f185a-a882-42ca-a847-dff340859d3e",
   "metadata": {},
   "outputs": [],
   "source": [
    "MEMORY_FILE = \"memory.jsonl\"\n",
    "\n",
    "def make_memory_line(ticker, memo_post):\n",
    "    SYS = \"Extract ONE short, practical 'watch next' line (<=18 words) from a memo.\"\n",
    "    usr = f\"Memo:\\n{memo_post}\\n\\nReturn only the line, no extra text.\"\n",
    "    line = llm_text(SYS, usr, max_tokens=60, temp=0.2).strip()\n",
    "    today = datetime.datetime.utcnow().strftime(\"%Y-%m-%d\")\n",
    "    return {\"date\": today, \"ticker\": ticker, \"note\": line}\n",
    "\n",
    "def append_memory(entry):\n",
    "    with open(MEMORY_FILE, \"a\", encoding=\"utf-8\") as f:\n",
    "        f.write(json.dumps(entry, ensure_ascii=False) + \"\\n\")\n"
   ]
  },
  {
   "cell_type": "markdown",
   "id": "4b10109b-2ce6-4772-8071-6dfe192307de",
   "metadata": {},
   "source": [
    "Cell 10 — Main orchestration: run_investment_agent(...)"
   ]
  },
  {
   "cell_type": "code",
   "execution_count": 241,
   "id": "bbfa6ba1-ef4f-4335-b9ab-e47092e8ab55",
   "metadata": {},
   "outputs": [],
   "source": [
    "def run_investment_agent(ticker=TICKER_DEFAULT, window_days=WINDOW_DAYS_DEFAULT, top_k=TOP_K_DEFAULT):\n",
    "    # 0) Setup run dir\n",
    "    tag = datetime.datetime.utcnow().strftime(f\"{ticker}_%Y-%m-%d\")\n",
    "    run_dir = f\"runs/{tag}\"\n",
    "    Path(run_dir).mkdir(exist_ok=True)\n",
    "\n",
    "    # 1) Plan\n",
    "    plan = make_plan(ticker, window_days)\n",
    "    write_text(f\"{run_dir}/plan.md\", plan)\n",
    "\n",
    "    # 2) Load artifacts (from earlier milestones)\n",
    "    arts = load_artifacts(ticker)\n",
    "    if arts[\"classified_json\"] is None or arts[\"extracted_json\"] is None:\n",
    "        raise RuntimeError(\"Missing structured files from Milestone 3. Please run Milestone 3 first.\")\n",
    "    classified = read_json(arts[\"classified_json\"], default=[])\n",
    "    extracted  = read_json(arts[\"extracted_json\"],  default=[])\n",
    "\n",
    "    # 3) Router summary\n",
    "    routes = router_counts(classified)\n",
    "    write_json(f\"{run_dir}/router_counts.json\", routes)\n",
    "\n",
    "    # 4) Summarize → Evaluate → Optimize\n",
    "    bullets = bullets_from_extractions(extracted[:top_k], max_items=min(top_k, 12))\n",
    "    memo_pre  = write_memo(ticker, bullets)\n",
    "    scorecard = evaluate_memo(memo_pre)\n",
    "    memo_post = optimize_memo(memo_pre, scorecard, bullets)\n",
    "\n",
    "    write_text(f\"{run_dir}/summary_pre.md\",  memo_pre)\n",
    "    write_json(f\"{run_dir}/scorecard.json\",  scorecard)\n",
    "    write_text(f\"{run_dir}/summary_post.md\", memo_post)\n",
    "\n",
    "    # 5) Memory\n",
    "    mem_entry = make_memory_line(ticker, memo_post)\n",
    "    append_memory(mem_entry)\n",
    "    write_json(f\"{run_dir}/memory_entry.json\", mem_entry)\n",
    "\n",
    "    # 6) Quick run manifest\n",
    "    manifest = {\n",
    "        \"ticker\": ticker,\n",
    "        \"window_days\": window_days,\n",
    "        \"artifacts\": arts,\n",
    "        \"routes\": routes,\n",
    "        \"files\": {\n",
    "            \"plan\": f\"{run_dir}/plan.md\",\n",
    "            \"summary_pre\": f\"{run_dir}/summary_pre.md\",\n",
    "            \"scorecard\": f\"{run_dir}/scorecard.json\",\n",
    "            \"summary_post\": f\"{run_dir}/summary_post.md\",\n",
    "            \"memory_entry\": f\"{run_dir}/memory_entry.json\"\n",
    "        }\n",
    "    }\n",
    "    write_json(f\"{run_dir}/manifest.json\", manifest)\n",
    "    return run_dir, manifest\n"
   ]
  },
  {
   "cell_type": "markdown",
   "id": "c6be54e4-e7e6-4a17-bfe4-c4e853e73550",
   "metadata": {},
   "source": [
    "Cell 11 — Run it!"
   ]
  },
  {
   "cell_type": "code",
   "execution_count": 244,
   "id": "ba2be395-e352-4d31-ba44-cc7f25a0817e",
   "metadata": {},
   "outputs": [
    {
     "name": "stdout",
     "output_type": "stream",
     "text": [
      "Artifacts saved under: runs/NVDA_2025-10-09\n"
     ]
    },
    {
     "data": {
      "text/html": [
       "<div>\n",
       "<style scoped>\n",
       "    .dataframe tbody tr th:only-of-type {\n",
       "        vertical-align: middle;\n",
       "    }\n",
       "\n",
       "    .dataframe tbody tr th {\n",
       "        vertical-align: top;\n",
       "    }\n",
       "\n",
       "    .dataframe thead th {\n",
       "        text-align: right;\n",
       "    }\n",
       "</style>\n",
       "<table border=\"1\" class=\"dataframe\">\n",
       "  <thead>\n",
       "    <tr style=\"text-align: right;\">\n",
       "      <th></th>\n",
       "      <th>macro_analyzer</th>\n",
       "      <th>general_news_analyzer</th>\n",
       "      <th>earnings_analyzer</th>\n",
       "      <th>regulatory_analyzer</th>\n",
       "      <th>supply_chain_analyzer</th>\n",
       "    </tr>\n",
       "  </thead>\n",
       "  <tbody>\n",
       "    <tr>\n",
       "      <th>0</th>\n",
       "      <td>36</td>\n",
       "      <td>50</td>\n",
       "      <td>8</td>\n",
       "      <td>9</td>\n",
       "      <td>1</td>\n",
       "    </tr>\n",
       "  </tbody>\n",
       "</table>\n",
       "</div>"
      ],
      "text/plain": [
       "   macro_analyzer  general_news_analyzer  earnings_analyzer  \\\n",
       "0              36                     50                  8   \n",
       "\n",
       "   regulatory_analyzer  supply_chain_analyzer  \n",
       "0                    9                      1  "
      ]
     },
     "execution_count": 244,
     "metadata": {},
     "output_type": "execute_result"
    }
   ],
   "source": [
    "run_dir, manifest = run_investment_agent(ticker=\"NVDA\", window_days=7, top_k=8)\n",
    "print(\"Artifacts saved under:\", run_dir)\n",
    "pd.DataFrame([manifest[\"routes\"]])\n"
   ]
  },
  {
   "cell_type": "code",
   "execution_count": null,
   "id": "fdbe6354-3832-41f0-9a53-dc32f3473ba1",
   "metadata": {},
   "outputs": [],
   "source": []
  }
 ],
 "metadata": {
  "kernelspec": {
   "display_name": "Python 3 (ipykernel)",
   "language": "python",
   "name": "python3"
  },
  "language_info": {
   "codemirror_mode": {
    "name": "ipython",
    "version": 3
   },
   "file_extension": ".py",
   "mimetype": "text/x-python",
   "name": "python",
   "nbconvert_exporter": "python",
   "pygments_lexer": "ipython3",
   "version": "3.11.7"
  }
 },
 "nbformat": 4,
 "nbformat_minor": 5
}
